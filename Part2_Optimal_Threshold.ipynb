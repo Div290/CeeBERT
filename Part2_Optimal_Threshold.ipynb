{
 "cells": [
  {
   "cell_type": "code",
   "execution_count": 449,
   "metadata": {
    "id": "Tu4XH1qvIu1m"
   },
   "outputs": [],
   "source": [
    "import numpy as np\n",
    "import pandas as pd\n",
    "from scipy.stats import entropy\n",
    "import scipy.stats as st\n",
    "import matplotlib.pyplot as plt\n",
    "import random"
   ]
  },
  {
   "cell_type": "code",
   "execution_count": 450,
   "metadata": {
    "colab": {
     "base_uri": "https://localhost:8080/",
     "height": 206
    },
    "id": "LPVyU-8-xOuI",
    "outputId": "18f44abc-28b3-4464-ccbf-a1ecdad308aa"
   },
   "outputs": [
    {
     "data": {
      "text/html": [
       "<div>\n",
       "<style scoped>\n",
       "    .dataframe tbody tr th:only-of-type {\n",
       "        vertical-align: middle;\n",
       "    }\n",
       "\n",
       "    .dataframe tbody tr th {\n",
       "        vertical-align: top;\n",
       "    }\n",
       "\n",
       "    .dataframe thead th {\n",
       "        text-align: right;\n",
       "    }\n",
       "</style>\n",
       "<table border=\"1\" class=\"dataframe\">\n",
       "  <thead>\n",
       "    <tr style=\"text-align: right;\">\n",
       "      <th></th>\n",
       "      <th>Unnamed: 0</th>\n",
       "      <th>Fou_layer_P</th>\n",
       "      <th>Last_layer</th>\n",
       "      <th>PProb_thi</th>\n",
       "      <th>PProb_las</th>\n",
       "      <th>True_labels</th>\n",
       "    </tr>\n",
       "  </thead>\n",
       "  <tbody>\n",
       "    <tr>\n",
       "      <th>0</th>\n",
       "      <td>0</td>\n",
       "      <td>1</td>\n",
       "      <td>1</td>\n",
       "      <td>0.162018</td>\n",
       "      <td>0.325878</td>\n",
       "      <td>1</td>\n",
       "    </tr>\n",
       "    <tr>\n",
       "      <th>1</th>\n",
       "      <td>1</td>\n",
       "      <td>1</td>\n",
       "      <td>0</td>\n",
       "      <td>0.167257</td>\n",
       "      <td>0.210833</td>\n",
       "      <td>1</td>\n",
       "    </tr>\n",
       "    <tr>\n",
       "      <th>2</th>\n",
       "      <td>2</td>\n",
       "      <td>1</td>\n",
       "      <td>1</td>\n",
       "      <td>0.158408</td>\n",
       "      <td>0.367216</td>\n",
       "      <td>1</td>\n",
       "    </tr>\n",
       "    <tr>\n",
       "      <th>3</th>\n",
       "      <td>3</td>\n",
       "      <td>1</td>\n",
       "      <td>1</td>\n",
       "      <td>0.300808</td>\n",
       "      <td>0.193138</td>\n",
       "      <td>1</td>\n",
       "    </tr>\n",
       "    <tr>\n",
       "      <th>4</th>\n",
       "      <td>4</td>\n",
       "      <td>1</td>\n",
       "      <td>1</td>\n",
       "      <td>0.143136</td>\n",
       "      <td>0.061296</td>\n",
       "      <td>1</td>\n",
       "    </tr>\n",
       "  </tbody>\n",
       "</table>\n",
       "</div>"
      ],
      "text/plain": [
       "   Unnamed: 0  Fou_layer_P  Last_layer  PProb_thi  PProb_las  True_labels\n",
       "0           0            1           1   0.162018   0.325878            1\n",
       "1           1            1           0   0.167257   0.210833            1\n",
       "2           2            1           1   0.158408   0.367216            1\n",
       "3           3            1           1   0.300808   0.193138            1\n",
       "4           4            1           1   0.143136   0.061296            1"
      ]
     },
     "execution_count": 450,
     "metadata": {},
     "output_type": "execute_result"
    }
   ],
   "source": [
    "df = pd.read_csv(\"Early_Exit_Confidence_data_imdb_2_exits(4,12)_difference.csv\")\n",
    "df.head(5)"
   ]
  },
  {
   "cell_type": "code",
   "execution_count": null,
   "metadata": {},
   "outputs": [],
   "source": []
  },
  {
   "cell_type": "markdown",
   "metadata": {},
   "source": [
    "# One_UBERT_Cycle"
   ]
  },
  {
   "cell_type": "code",
   "execution_count": 451,
   "metadata": {},
   "outputs": [],
   "source": [
    "def one_cycle(df):\n",
    "    c_i_data = []\n",
    "    for i in df[\"PProb_thi\"]:\n",
    "        c_i_data.append(i)\n",
    "        \n",
    "        \n",
    "    c_l_data = []\n",
    "    for i in df[\"PProb_las\"]:\n",
    "        c_l_data.append(i)\n",
    "        \n",
    "    number_of_actions = 10\n",
    "    action_set = [0.10*(i+1) for i in range(number_of_actions)]\n",
    "    \n",
    "    \n",
    "    def reward(c_i, c_l, action, overhead):\n",
    "        if c_i >= action_set[action]:\n",
    "            reward = 0\n",
    "        else:\n",
    "            reward = c_l - c_i - overhead\n",
    "        return reward\n",
    "    \n",
    "    \n",
    "    def next_action(Q, c_tilde, N, t):\n",
    "      # Q is the list of rewards\n",
    "      # c_tilde is the hyperparameter\n",
    "      # N is the number of times an action is chosen\n",
    "        next_a = []\n",
    "        for i in range(len(action_set)):\n",
    "\n",
    "            next_a.append(Q[i] + c_tilde*((np.log(t)/N[i])**(0.5)))\n",
    "\n",
    "        return next_a.index(max(next_a))\n",
    "    \n",
    "    \n",
    "    def update_parameters(Q, N, t, c_i_data, c_l_data, chosen_action, overhead):\n",
    "        n = N[chosen_action]\n",
    "        N[chosen_action] += 1\n",
    "        Q[chosen_action] = (n*Q[chosen_action] + reward(c_i_data[t], c_l_data[t], chosen_action, overhead))/N[chosen_action]\n",
    "        return Q, N\n",
    "    \n",
    "    \n",
    "\n",
    "    def initialize(Q, N, action_set, c_i_data, c_l_data, overhead):\n",
    "        for t in range(len(action_set)):\n",
    "            update_parameters(Q, N, t, c_i_data, c_l_data, t, overhead)\n",
    "        # print(N)\n",
    "        return Q, N\n",
    "    \n",
    "    \n",
    "    \n",
    "    \n",
    "    def oracle_action(overhead):\n",
    "        oracle_reward = []\n",
    "        for i in action_set:\n",
    "            o_reward = 0 \n",
    "            for t in range(df.shape[0]):\n",
    "                if c_i_data[t] >= i:\n",
    "                    reward = 0\n",
    "    #                 predictions.append(df[\"Fou_layer_P\"][t])\n",
    "                else:\n",
    "                    reward = c_l_data[t] - c_i_data[t] - overhead\n",
    "                o_reward += reward\n",
    "    #         print(oracle_reward)\n",
    "            oracle_reward.append(o_reward/df.shape[0])\n",
    "\n",
    "        return oracle_reward.index(max(oracle_reward)), oracle_reward\n",
    "    oracle_action, o_reward = oracle_action(0.1)\n",
    "    \n",
    "    \n",
    "    print(\"Oracle action =====> \", oracle_action)\n",
    "    \n",
    "    \n",
    "    \n",
    "    def one_UCB_cycle(Q, N, c_tilde, c_i_data, c_l_data, overhead, df):\n",
    "        action_chosen = []\n",
    "        predictions = []\n",
    "        rewards = []\n",
    "        for t in range(df.shape[0]):\n",
    "            if t < len(action_set):\n",
    "                pass\n",
    "            else:\n",
    "\n",
    "                action = next_action(Q, c_tilde, N, t)\n",
    "                # print(action)\n",
    "                action_chosen.append(action)\n",
    "                if c_i_data[t] >= action_set[action]:\n",
    "                    reward = 0\n",
    "                    predictions.append(df[\"Fou_layer_P\"][t])\n",
    "                    rewards.append(reward)\n",
    "                else:\n",
    "                    reward = c_l_data[t] - c_i_data[t] - overhead\n",
    "                    predictions.append(df[\"Last_layer\"][t])\n",
    "                    rewards.append(reward)\n",
    "                Q, N = update_parameters(Q, N, t, c_i_data, c_l_data, action, overhead)\n",
    "\n",
    "        return action_chosen, predictions, rewards, Q, N\n",
    "    \n",
    "    \n",
    "    Q = [0 for i in range(len(action_set))]\n",
    "    N = [0 for i in range(len(action_set))]\n",
    "    c_tilde = 2\n",
    "    overhead = 0.1\n",
    "    Q, N = initialize(Q, N, action_set, c_i_data, c_l_data, overhead)\n",
    "    action, preds, rewards, Q, N = one_UCB_cycle(Q, N, c_tilde, c_i_data, c_l_data, overhead , df)\n",
    "    \n",
    "    optimal_action = Q.index(max(Q))\n",
    "    print(\"Optimal_action is \", optimal_action)\n",
    "    \n",
    "    \n",
    "    preds = []\n",
    "    count = 0\n",
    "    oracle_reward = []\n",
    "    for i in range(df.shape[0]):\n",
    "        if i < len(action_set):\n",
    "            if c_i_data[i] > action_set[oracle_action]:\n",
    "    #             reward = 0\n",
    "                count += 1\n",
    "                preds.append(df[\"Fou_layer_P\"][i])\n",
    "    #             optimal_reward.append(reward)\n",
    "            else:\n",
    "                preds.append(df[\"Last_layer\"][i])\n",
    "    #             reward = c_l_data[i] - c_i_data[i] - overhead\n",
    "    #             optimal_reward.append(reward)\n",
    "        else:\n",
    "            if c_i_data[i] > action_set[oracle_action]:\n",
    "                reward = 0\n",
    "                count += 1\n",
    "                preds.append(df[\"Fou_layer_P\"][i])\n",
    "                oracle_reward.append(reward)\n",
    "            else:\n",
    "                preds.append(df[\"Last_layer\"][i])\n",
    "                reward = c_l_data[i] - c_i_data[i] - overhead\n",
    "                oracle_reward.append(reward)\n",
    "                \n",
    "    oracle_reward = np.array(oracle_reward)\n",
    "    rewards = np.array(rewards)\n",
    "    regret = (oracle_reward-rewards)\n",
    "    cumulative_regret = abs(np.cumsum(regret))\n",
    "    \n",
    "    \n",
    "    return cumulative_regret"
   ]
  },
  {
   "cell_type": "code",
   "execution_count": 452,
   "metadata": {},
   "outputs": [
    {
     "name": "stdout",
     "output_type": "stream",
     "text": [
      "Oracle action =====>  1\n",
      "Optimal_action is  1\n"
     ]
    },
    {
     "data": {
      "text/plain": [
       "array([  0.        ,   0.        ,   0.        , ..., 523.67789198,\n",
       "       523.67789198, 523.67789198])"
      ]
     },
     "execution_count": 452,
     "metadata": {},
     "output_type": "execute_result"
    }
   ],
   "source": [
    "one_cycle(df)"
   ]
  },
  {
   "cell_type": "code",
   "execution_count": 453,
   "metadata": {},
   "outputs": [
    {
     "name": "stdout",
     "output_type": "stream",
     "text": [
      "Oracle action =====>  1\n",
      "Optimal_action is  1\n",
      "Oracle action =====>  1\n",
      "Optimal_action is  1\n",
      "Oracle action =====>  1\n",
      "Optimal_action is  0\n",
      "Oracle action =====>  1\n",
      "Optimal_action is  1\n",
      "Oracle action =====>  1\n",
      "Optimal_action is  1\n"
     ]
    }
   ],
   "source": [
    "num_cycles = 5\n",
    "reg_lis = []\n",
    "\n",
    "for i in range(num_cycles):\n",
    "    df = df.sample(frac = 1)\n",
    "    cum_reg = one_cycle(df)\n",
    "    if i%50 == 0:\n",
    "        \n",
    "        reg_lis.append(cum_reg)\n",
    "    \n",
    "reg_lis = np.array(reg_lis)"
   ]
  },
  {
   "cell_type": "code",
   "execution_count": 454,
   "metadata": {},
   "outputs": [],
   "source": [
    "number_of_actions = 10\n",
    "action_set = [0.10*(i+1) for i in range(number_of_actions)]"
   ]
  },
  {
   "cell_type": "code",
   "execution_count": 455,
   "metadata": {},
   "outputs": [
    {
     "data": {
      "text/plain": [
       "(24990,)"
      ]
     },
     "execution_count": 455,
     "metadata": {},
     "output_type": "execute_result"
    }
   ],
   "source": [
    "reg_lis.mean(axis=0).shape"
   ]
  },
  {
   "cell_type": "code",
   "execution_count": 456,
   "metadata": {},
   "outputs": [
    {
     "name": "stderr",
     "output_type": "stream",
     "text": [
      "C:\\Users\\divya\\anaconda3\\lib\\site-packages\\numpy\\core\\_methods.py:264: RuntimeWarning: Degrees of freedom <= 0 for slice\n",
      "  ret = _var(a, axis=axis, dtype=dtype, out=out, ddof=ddof,\n",
      "C:\\Users\\divya\\anaconda3\\lib\\site-packages\\numpy\\core\\_methods.py:256: RuntimeWarning: invalid value encountered in double_scalars\n",
      "  ret = ret.dtype.type(ret / rcount)\n"
     ]
    }
   ],
   "source": [
    "lower = []\n",
    "upper = []\n",
    "\n",
    "for i in range(df.shape[0]-len(action_set)):\n",
    "    intrval = st.t.interval(alpha=0.95, df=len(reg_lis[:,i])-1,\n",
    "              loc=np.mean(reg_lis[:,i]),\n",
    "              scale=st.sem(reg_lis[:,i]))\n",
    "    if i%50 == 0:\n",
    "        \n",
    "        lower.append(intrval[0])\n",
    "        upper.append(intrval[1])"
   ]
  },
  {
   "cell_type": "markdown",
   "metadata": {},
   "source": [
    "# Other-Exit"
   ]
  },
  {
   "cell_type": "code",
   "execution_count": 457,
   "metadata": {},
   "outputs": [],
   "source": [
    "def one_action_cycle(df, action):\n",
    "    c_i_data = []\n",
    "    for i in df[\"PProb_thi\"]:\n",
    "        c_i_data.append(i)\n",
    "        \n",
    "#     random.seed(9)    \n",
    "    c_l_data = []\n",
    "    for i in df[\"PProb_las\"]:\n",
    "        c_l_data.append(i)\n",
    "        \n",
    "    number_of_actions = 10\n",
    "    action_set = [0.10*(i+1) for i in range(number_of_actions)]\n",
    "    overhead = 0.1  \n",
    "    \n",
    " \n",
    "    def oracle_action(overhead):\n",
    "        oracle_reward = []\n",
    "        for i in action_set:\n",
    "            o_reward = 0 \n",
    "            for t in range(df.shape[0]):\n",
    "                if c_i_data[t] >= i:\n",
    "                    reward = 0\n",
    "    #                 predictions.append(df[\"Fou_layer_P\"][t])\n",
    "                else:\n",
    "                    reward = c_l_data[t] - c_i_data[t] - overhead\n",
    "                o_reward += reward\n",
    "    #         print(oracle_reward)\n",
    "            oracle_reward.append(o_reward/df.shape[0])\n",
    "\n",
    "        return oracle_reward.index(max(oracle_reward)), oracle_reward\n",
    "    oracle_action, o_reward = oracle_action(0.1)\n",
    "    \n",
    "    \n",
    "    print(\"Oracle action =====> \", oracle_action)\n",
    "    \n",
    "    \n",
    "    preds = []\n",
    "    count = 0\n",
    "    oracle_reward = []\n",
    "    for i in range(df.shape[0]):\n",
    "        if i < len(action_set):\n",
    "            if c_i_data[i] >= action_set[oracle_action]:\n",
    "    #             reward = 0\n",
    "                count += 1\n",
    "                preds.append(df[\"Fou_layer_P\"][i])\n",
    "    #             optimal_reward.append(reward)\n",
    "            else:\n",
    "                preds.append(df[\"Last_layer\"][i])\n",
    "    #             reward = c_l_data[i] - c_i_data[i] - overhead\n",
    "    #             optimal_reward.append(reward)\n",
    "        else:\n",
    "            if c_i_data[i] > action_set[oracle_action]:\n",
    "                reward = 0\n",
    "                count += 1\n",
    "                preds.append(df[\"Fou_layer_P\"][i])\n",
    "                oracle_reward.append(reward)\n",
    "            else:\n",
    "                preds.append(df[\"Last_layer\"][i])\n",
    "                reward = c_l_data[i] - c_i_data[i] - overhead\n",
    "                oracle_reward.append(reward)\n",
    "    \n",
    "    \n",
    "#     action = random.choice(action_set)\n",
    "    print(\"Action is \", action)\n",
    "    \n",
    "    \n",
    "    \n",
    "     \n",
    "    \n",
    "    \n",
    "    \n",
    "    \n",
    "#     preds = []\n",
    "#     count_1 = 0\n",
    "    rewards = []\n",
    "    for i in range(df.shape[0]):\n",
    "        if i < len(action_set):\n",
    "            if c_i_data[i] >= action:\n",
    "    #             reward = 0\n",
    "#                 count_1 += 1\n",
    "                preds.append(df[\"Fou_layer_P\"][i])\n",
    "    #             optimal_reward.append(reward)\n",
    "            else:\n",
    "                preds.append(df[\"Last_layer\"][i])\n",
    "    #             reward = c_l_data[i] - c_i_data[i] - overhead\n",
    "    #             optimal_reward.append(reward)\n",
    "        else:\n",
    "            if c_i_data[i] >= action:\n",
    "                reward = 0\n",
    "#                 count_1 += 1\n",
    "                preds.append(df[\"Fou_layer_P\"][i])\n",
    "                rewards.append(reward)\n",
    "            else:\n",
    "                preds.append(df[\"Last_layer\"][i])\n",
    "                reward = c_l_data[i] - c_i_data[i] - overhead\n",
    "                rewards.append(reward)\n",
    "    \n",
    "                \n",
    "    oracle_reward = np.array(oracle_reward)\n",
    "    rewards = np.array(rewards)\n",
    "    regret = (oracle_reward-rewards)\n",
    "    cumulative_regret = abs(np.cumsum(regret))\n",
    "    \n",
    "    \n",
    "    return cumulative_regret"
   ]
  },
  {
   "cell_type": "code",
   "execution_count": 440,
   "metadata": {},
   "outputs": [
    {
     "name": "stdout",
     "output_type": "stream",
     "text": [
      "Oracle action =====>  1\n",
      "Action is  0.3\n",
      "Oracle action =====>  1\n",
      "Action is  0.3\n",
      "Oracle action =====>  1\n",
      "Action is  0.3\n",
      "Oracle action =====>  1\n",
      "Action is  0.3\n",
      "Oracle action =====>  1\n",
      "Action is  0.3\n"
     ]
    }
   ],
   "source": [
    "reg_lis_3 = []\n",
    "\n",
    "for i in range(num_cycles):\n",
    "    df = df.sample(frac = 1)\n",
    "    cum_reg_3 = one_action_cycle(df, 0.3)\n",
    "    if i%50 == 0:\n",
    "        \n",
    "        reg_lis_3.append(cum_reg_3)\n",
    "    \n",
    "reg_lis_3 = np.array(reg_lis_3)"
   ]
  },
  {
   "cell_type": "code",
   "execution_count": 441,
   "metadata": {},
   "outputs": [],
   "source": [
    "lower_3 = []\n",
    "upper_3 = []\n",
    "\n",
    "for i in range(df.shape[0]-len(action_set)):\n",
    "    intrval = st.t.interval(alpha=0.95, df=len(reg_lis_3[:,i])-1,\n",
    "              loc=np.mean(reg_lis_3[:,i]),\n",
    "              scale=st.sem(reg_lis_3[:,i]))\n",
    "    if i%50 == 0:\n",
    "        \n",
    "        lower_3.append(intrval[0])\n",
    "        upper_3.append(intrval[1])"
   ]
  },
  {
   "cell_type": "markdown",
   "metadata": {},
   "source": [
    "# $\\alpha = 0.4$"
   ]
  },
  {
   "cell_type": "code",
   "execution_count": 442,
   "metadata": {},
   "outputs": [
    {
     "name": "stdout",
     "output_type": "stream",
     "text": [
      "Oracle action =====>  1\n",
      "Action is  0.4\n",
      "Oracle action =====>  1\n",
      "Action is  0.4\n",
      "Oracle action =====>  1\n",
      "Action is  0.4\n",
      "Oracle action =====>  1\n",
      "Action is  0.4\n",
      "Oracle action =====>  1\n",
      "Action is  0.4\n"
     ]
    }
   ],
   "source": [
    "reg_lis_4 = []\n",
    "\n",
    "for i in range(num_cycles):\n",
    "    df = df.sample(frac = 1)\n",
    "    cum_reg_4 = one_action_cycle(df, 0.4)\n",
    "    if i%50 == 0:\n",
    "        \n",
    "        reg_lis_4.append(cum_reg_4)\n",
    "    \n",
    "reg_lis_4 = np.array(reg_lis_4)"
   ]
  },
  {
   "cell_type": "code",
   "execution_count": 443,
   "metadata": {},
   "outputs": [],
   "source": [
    "lower_4 = []\n",
    "upper_4 = []\n",
    "\n",
    "for i in range(df.shape[0]-len(action_set)):\n",
    "    intrval = st.t.interval(alpha=0.95, df=len(reg_lis_4[:,i])-1,\n",
    "              loc=np.mean(reg_lis_4[:,i]),\n",
    "              scale=st.sem(reg_lis_4[:,i]))\n",
    "    if i % 50 == 0:\n",
    "        \n",
    "        lower_4.append(intrval[0])\n",
    "        upper_4.append(intrval[1])"
   ]
  },
  {
   "cell_type": "markdown",
   "metadata": {},
   "source": [
    "# $Early-Exit$  "
   ]
  },
  {
   "cell_type": "code",
   "execution_count": 444,
   "metadata": {},
   "outputs": [
    {
     "name": "stdout",
     "output_type": "stream",
     "text": [
      "Oracle action =====>  1\n",
      "Action is  0.0\n",
      "Oracle action =====>  1\n",
      "Action is  0.0\n",
      "Oracle action =====>  1\n",
      "Action is  0.0\n",
      "Oracle action =====>  1\n",
      "Action is  0.0\n",
      "Oracle action =====>  1\n",
      "Action is  0.0\n"
     ]
    }
   ],
   "source": [
    "reg_lis_5 = []\n",
    "for i in range(num_cycles):\n",
    "    df = df.sample(frac = 1)\n",
    "    cum_reg_5 = one_action_cycle(df, 0.0)\n",
    "    if i%50 == 0:\n",
    "        \n",
    "        reg_lis_5.append(cum_reg_5)\n",
    "    \n",
    "reg_lis_5 = np.array(reg_lis_5)"
   ]
  },
  {
   "cell_type": "code",
   "execution_count": 445,
   "metadata": {},
   "outputs": [],
   "source": [
    "lower_5 = []\n",
    "upper_5 = []\n",
    "\n",
    "for i in range(df.shape[0]-len(action_set)):\n",
    "    intrval = st.t.interval(alpha=0.95, df=len(reg_lis_5[:,i])-1,\n",
    "              loc=np.mean(reg_lis_5[:,i]),\n",
    "              scale=st.sem(reg_lis_5[:,i]))\n",
    "    if i%50==0:\n",
    "        \n",
    "        lower_5.append(intrval[0])\n",
    "        upper_5.append(intrval[1])"
   ]
  },
  {
   "cell_type": "markdown",
   "metadata": {},
   "source": [
    "# Final-Exit "
   ]
  },
  {
   "cell_type": "code",
   "execution_count": 446,
   "metadata": {},
   "outputs": [
    {
     "name": "stdout",
     "output_type": "stream",
     "text": [
      "Oracle action =====>  1\n",
      "Action is  1.0\n",
      "Oracle action =====>  1\n",
      "Action is  1.0\n",
      "Oracle action =====>  1\n",
      "Action is  1.0\n",
      "Oracle action =====>  1\n",
      "Action is  1.0\n",
      "Oracle action =====>  1\n",
      "Action is  1.0\n"
     ]
    }
   ],
   "source": [
    "reg_lis_fin = []\n",
    "\n",
    "for i in range(num_cycles):\n",
    "    df = df.sample(frac = 1)\n",
    "    cum_reg_fin = one_action_cycle(df, action_set[-1])\n",
    "    if i %50 == 0:\n",
    "        \n",
    "        reg_lis_fin.append(cum_reg_fin)\n",
    "    \n",
    "reg_lis_fin = np.array(reg_lis_fin)"
   ]
  },
  {
   "cell_type": "code",
   "execution_count": 447,
   "metadata": {},
   "outputs": [],
   "source": [
    "lower_fin = []\n",
    "upper_fin = []\n",
    "\n",
    "for i in range(df.shape[0]-len(action_set)):\n",
    "    intrval = st.t.interval(alpha=0.95, df=len(reg_lis_fin[:,i])-1,\n",
    "              loc=np.mean(reg_lis_fin[:,i]),\n",
    "              scale=st.sem(reg_lis_fin[:,i]))\n",
    "    if i%50 == 0:\n",
    "        \n",
    "        lower_fin.append(intrval[0])\n",
    "        upper_fin.append(intrval[1])"
   ]
  },
  {
   "cell_type": "code",
   "execution_count": 448,
   "metadata": {},
   "outputs": [
    {
     "data": {
      "image/png": "[encoded data removed]",
      "text/plain": [
       "<Figure size 432x288 with 1 Axes>"
      ]
     },
     "metadata": {
      "needs_background": "light"
     },
     "output_type": "display_data"
    }
   ],
   "source": [
    "x = [i for i in range(len(lower))]\n",
    "plt.plot(reg_lis.mean(axis = 0) ,'g', label=\"UBERT\",linestyle = 'solid')\n",
    "plt.fill_between(x, lower, upper, color='green', alpha=0.1)\n",
    "plt.plot(reg_lis_3.mean(axis = 0) ,'orange', label=\"alpha = 0.3\", linestyle = 'dashed')\n",
    "plt.fill_between(x, lower_3, upper_3, color='orange', alpha=0.1)\n",
    "plt.plot(reg_lis_4.mean(axis = 0) ,'red', label=\"alpha = 0.4\", linestyle = 'dashdot')\n",
    "plt.fill_between(x, lower_4, upper_4, color='red', alpha=0.1)\n",
    "plt.plot(reg_lis_5.mean(axis = 0) ,'blue', label=\"alpha = 0.0 (Early-exit)\",linestyle = 'dotted')\n",
    "plt.fill_between(x, lower_5, upper_5, color='blue', alpha=0.1)\n",
    "plt.plot(reg_lis_fin.mean(axis = 0) ,'brown', label=\"alpha = 1.0 (Final-Exit)\",linestyle = 'dashed')\n",
    "plt.fill_between(x, lower_fin, upper_fin, color='brown', alpha=0.1)\n",
    "plt.legend()\n",
    "plt.xlabel(\"Time horizon\")\n",
    "plt.ylabel(\"Cumulative regret\")\n",
    "plt.title(\"IMDb\")\n",
    "plt.savefig('CI imdb regret 4th_new.pdf')\n",
    "plt.show()"
   ]
  },
  {
   "cell_type": "code",
   "execution_count": null,
   "metadata": {},
   "outputs": [],
   "source": []
  },
  {
   "cell_type": "code",
   "execution_count": null,
   "metadata": {},
   "outputs": [],
   "source": []
  },
  {
   "cell_type": "code",
   "execution_count": null,
   "metadata": {},
   "outputs": [],
   "source": []
  }
 ],
 "metadata": {
  "colab": {
   "provenance": []
  },
  "kernelspec": {
   "display_name": "Python 3 (ipykernel)",
   "language": "python",
   "name": "python3"
  },
  "language_info": {
   "codemirror_mode": {
    "name": "ipython",
    "version": 3
   },
   "file_extension": ".py",
   "mimetype": "text/x-python",
   "name": "python",
   "nbconvert_exporter": "python",
   "pygments_lexer": "ipython3",
   "version": "3.9.7"
  }
 },
 "nbformat": 4,
 "nbformat_minor": 1
}
