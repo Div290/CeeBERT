{
 "cells": [
  {
   "cell_type": "code",
   "execution_count": 12,
   "metadata": {
    "id": "Tu4XH1qvIu1m"
   },
   "outputs": [],
   "source": [
    "import numpy as np\n",
    "import pandas as pd\n",
    "from scipy.stats import entropy\n",
    "import scipy.stats as st\n",
    "import matplotlib.pyplot as plt\n",
    "import random"
   ]
  },
  {
   "cell_type": "code",
   "execution_count": 13,
   "metadata": {
    "colab": {
     "base_uri": "https://localhost:8080/",
     "height": 206
    },
    "id": "LPVyU-8-xOuI",
    "outputId": "18f44abc-28b3-4464-ccbf-a1ecdad308aa"
   },
   "outputs": [
    {
     "data": {
      "text/html": [
       "<div>\n",
       "<style scoped>\n",
       "    .dataframe tbody tr th:only-of-type {\n",
       "        vertical-align: middle;\n",
       "    }\n",
       "\n",
       "    .dataframe tbody tr th {\n",
       "        vertical-align: top;\n",
       "    }\n",
       "\n",
       "    .dataframe thead th {\n",
       "        text-align: right;\n",
       "    }\n",
       "</style>\n",
       "<table border=\"1\" class=\"dataframe\">\n",
       "  <thead>\n",
       "    <tr style=\"text-align: right;\">\n",
       "      <th></th>\n",
       "      <th>Unnamed: 0</th>\n",
       "      <th>Thi_layer_P</th>\n",
       "      <th>Six_layer_P</th>\n",
       "      <th>Last_layer</th>\n",
       "      <th>PProb_thi</th>\n",
       "      <th>PProb_six</th>\n",
       "      <th>PProb_las</th>\n",
       "      <th>True_labels</th>\n",
       "    </tr>\n",
       "  </thead>\n",
       "  <tbody>\n",
       "    <tr>\n",
       "      <th>0</th>\n",
       "      <td>0</td>\n",
       "      <td>1</td>\n",
       "      <td>1</td>\n",
       "      <td>1</td>\n",
       "      <td>0.665648</td>\n",
       "      <td>0.812874</td>\n",
       "      <td>0.959256</td>\n",
       "      <td>1</td>\n",
       "    </tr>\n",
       "    <tr>\n",
       "      <th>1</th>\n",
       "      <td>1</td>\n",
       "      <td>0</td>\n",
       "      <td>0</td>\n",
       "      <td>0</td>\n",
       "      <td>0.621514</td>\n",
       "      <td>0.683041</td>\n",
       "      <td>0.609833</td>\n",
       "      <td>1</td>\n",
       "    </tr>\n",
       "    <tr>\n",
       "      <th>2</th>\n",
       "      <td>2</td>\n",
       "      <td>1</td>\n",
       "      <td>1</td>\n",
       "      <td>1</td>\n",
       "      <td>0.655199</td>\n",
       "      <td>0.801864</td>\n",
       "      <td>0.879779</td>\n",
       "      <td>1</td>\n",
       "    </tr>\n",
       "    <tr>\n",
       "      <th>3</th>\n",
       "      <td>3</td>\n",
       "      <td>1</td>\n",
       "      <td>1</td>\n",
       "      <td>1</td>\n",
       "      <td>0.841005</td>\n",
       "      <td>0.871144</td>\n",
       "      <td>0.942345</td>\n",
       "      <td>1</td>\n",
       "    </tr>\n",
       "    <tr>\n",
       "      <th>4</th>\n",
       "      <td>4</td>\n",
       "      <td>1</td>\n",
       "      <td>1</td>\n",
       "      <td>1</td>\n",
       "      <td>0.690995</td>\n",
       "      <td>0.637939</td>\n",
       "      <td>0.902713</td>\n",
       "      <td>1</td>\n",
       "    </tr>\n",
       "  </tbody>\n",
       "</table>\n",
       "</div>"
      ],
      "text/plain": [
       "   Unnamed: 0  Thi_layer_P  Six_layer_P  Last_layer  PProb_thi  PProb_six  \\\n",
       "0           0            1            1           1   0.665648   0.812874   \n",
       "1           1            0            0           0   0.621514   0.683041   \n",
       "2           2            1            1           1   0.655199   0.801864   \n",
       "3           3            1            1           1   0.841005   0.871144   \n",
       "4           4            1            1           1   0.690995   0.637939   \n",
       "\n",
       "   PProb_las  True_labels  \n",
       "0   0.959256            1  \n",
       "1   0.609833            1  \n",
       "2   0.879779            1  \n",
       "3   0.942345            1  \n",
       "4   0.902713            1  "
      ]
     },
     "execution_count": 13,
     "metadata": {},
     "output_type": "execute_result"
    }
   ],
   "source": [
    "df = pd.read_csv(\"/home/divya/UBERT/CSV_files/Early_Exit_Confidence_data_imdb_max_exits(3,6,12)_difference.csv\")\n",
    "df.head(5)"
   ]
  },
  {
   "cell_type": "code",
   "execution_count": 14,
   "metadata": {},
   "outputs": [],
   "source": [
    "action_set_1 = [0.5, 0.6, 0.7, 0.8, 0.9, 1.0]"
   ]
  },
  {
   "cell_type": "code",
   "execution_count": 15,
   "metadata": {},
   "outputs": [],
   "source": [
    "# accuracy_imdb = []\n",
    "# for j in df.columns:\n",
    "#   accuracy = 0\n",
    "#   for i in range(df.shape[0]):\n",
    "#       if df[j][i] == df['True_labels'][i]:\n",
    "#           accuracy += 1\n",
    "#       else:\n",
    "#           pass\n",
    "#   print(\"Accuracy = \", accuracy/df.shape[0])\n",
    "#   accuracy_imdb.append(accuracy)"
   ]
  },
  {
   "cell_type": "code",
   "execution_count": 16,
   "metadata": {},
   "outputs": [
    {
     "name": "stdout",
     "output_type": "stream",
     "text": [
      "[0.5, 0.6]\n"
     ]
    }
   ],
   "source": [
    "print([action_set_1[0], action_set_1[1]])"
   ]
  },
  {
   "cell_type": "code",
   "execution_count": 17,
   "metadata": {},
   "outputs": [],
   "source": [
    "action_set = []\n",
    "act_mat = np.zeros([len(action_set_1), len(action_set_1), 2])\n",
    "for i in range(act_mat.shape[0]):\n",
    "    for j in range(act_mat.shape[1]):\n",
    "        # if i>j:     \n",
    "        act_mat[i][j] = np.array([action_set_1[i], action_set_1[j]])\n",
    "        action_set.append(act_mat[i][j])"
   ]
  },
  {
   "cell_type": "code",
   "execution_count": 18,
   "metadata": {},
   "outputs": [
    {
     "data": {
      "text/plain": [
       "36"
      ]
     },
     "execution_count": 18,
     "metadata": {},
     "output_type": "execute_result"
    }
   ],
   "source": [
    "len(action_set)"
   ]
  },
  {
   "cell_type": "code",
   "execution_count": 19,
   "metadata": {},
   "outputs": [
    {
     "name": "stdout",
     "output_type": "stream",
     "text": [
      "[array([0.5, 0.5]), array([0.5, 0.6]), array([0.5, 0.7]), array([0.5, 0.8]), array([0.5, 0.9]), array([0.5, 1. ]), array([0.6, 0.5]), array([0.6, 0.6]), array([0.6, 0.7]), array([0.6, 0.8]), array([0.6, 0.9]), array([0.6, 1. ]), array([0.7, 0.5]), array([0.7, 0.6]), array([0.7, 0.7]), array([0.7, 0.8]), array([0.7, 0.9]), array([0.7, 1. ]), array([0.8, 0.5]), array([0.8, 0.6]), array([0.8, 0.7]), array([0.8, 0.8]), array([0.8, 0.9]), array([0.8, 1. ]), array([0.9, 0.5]), array([0.9, 0.6]), array([0.9, 0.7]), array([0.9, 0.8]), array([0.9, 0.9]), array([0.9, 1. ]), array([1. , 0.5]), array([1. , 0.6]), array([1. , 0.7]), array([1. , 0.8]), array([1. , 0.9]), array([1., 1.])]\n"
     ]
    }
   ],
   "source": [
    "print((action_set))"
   ]
  },
  {
   "attachments": {},
   "cell_type": "markdown",
   "metadata": {},
   "source": [
    "# One_UBERT_Cycle"
   ]
  },
  {
   "cell_type": "code",
   "execution_count": 22,
   "metadata": {},
   "outputs": [],
   "source": [
    "def one_cycle(df, action_set, overhead):\n",
    "    c_i_data_thi = []\n",
    "    for i in df[\"PProb_thi\"]:\n",
    "        c_i_data_thi.append(i)\n",
    "\n",
    "    c_i_data_six = []\n",
    "    for i in df[\"PProb_six\"]:\n",
    "        c_i_data_six.append(i)\n",
    "\n",
    "    c_l_data = []\n",
    "    for i in df[\"PProb_las\"]:\n",
    "        c_l_data.append(i)\n",
    "        \n",
    "    # action_set_1 = [0.10*((i+10)/3) for i in range(20)]\n",
    "    # action_set = []\n",
    "    # for i in range(len(action_set_1)):\n",
    "    #     if i%2 == 0:\n",
    "    #         action_set.append(action_set_1[i])\n",
    "    \n",
    "    \n",
    "    def reward(c_i_thi, c_i_six, c_l, action, overhead):\n",
    "        if c_i_thi >= action_set[action][0]:\n",
    "            reward = 0\n",
    "        elif c_i_six >= action_set[action][1]:\n",
    "            reward = c_i_six - c_i_thi - overhead[0] \n",
    "        else:\n",
    "            reward = c_l - c_i_thi - overhead[0] - overhead[1]\n",
    "        return reward\n",
    "    \n",
    "    \n",
    "    def next_action(Q, c_tilde, N, t):\n",
    "      # Q is the list of rewards\n",
    "      # c_tilde is the hyperparameter\n",
    "      # N is the number of times an action is chosen\n",
    "        next_a = []\n",
    "        for i in range(len(action_set)):\n",
    "\n",
    "            next_a.append(Q[i] + c_tilde*((np.log(t)/N[i])**(0.5)))\n",
    "\n",
    "        return next_a.index(max(next_a))\n",
    "    \n",
    "    \n",
    "    def update_parameters(Q, N, t, c_i_data_thi, c_i_data_six, c_l_data, chosen_action, overhead):\n",
    "        n = N[chosen_action]\n",
    "        N[chosen_action] += 1\n",
    "        Q[chosen_action] = (n*Q[chosen_action] + reward(c_i_data_thi[t], c_i_data_six[t], c_l_data[t], chosen_action, overhead))/N[chosen_action]\n",
    "        return Q, N\n",
    "    \n",
    "    \n",
    "\n",
    "    def initialize(Q, N, action_set, c_i_data_thi, c_i_data_six, c_l_data, overhead):\n",
    "        for t in range(len(action_set)):\n",
    "            update_parameters(Q, N, t, c_i_data_thi, c_i_data_six, c_l_data, t, overhead)\n",
    "        # print(N)\n",
    "        return Q, N\n",
    "    \n",
    "    \n",
    "    \n",
    "    \n",
    "    def oracle_action(overhead):\n",
    "        oracle_reward = []\n",
    "        for i in action_set:\n",
    "            o_reward = 0 \n",
    "            for t in range(df.shape[0]):\n",
    "                if c_i_data_thi[t] >= i[0]:\n",
    "                    reward = 0\n",
    "    #                 predictions.append(df[\"Fou_layer_P\"][t])\n",
    "                elif c_i_data_six[t] >= i[1]:\n",
    "                    reward = c_i_data_six[t] - c_i_data_thi[t] - overhead[0] \n",
    "                else:\n",
    "                    reward = c_l_data[t] - c_i_data_thi[t] - overhead[0] - overhead[1] \n",
    "                o_reward += reward\n",
    "    #         print(oracle_reward)\n",
    "            oracle_reward.append(o_reward/df.shape[0])\n",
    "\n",
    "        return oracle_reward.index(max(oracle_reward)), oracle_reward\n",
    "    oracle_action, o_reward = oracle_action(overhead)\n",
    "    \n",
    "    \n",
    "    print(\"Oracle action =====> \", oracle_action)\n",
    "    \n",
    "    \n",
    "    \n",
    "    def one_UCB_cycle(Q, N, c_tilde, c_i_data_thi, c_i_data_six, c_l_data, overhead, df):\n",
    "        action_chosen = []\n",
    "        predictions = []\n",
    "        rewards = []\n",
    "        count_1 = 0\n",
    "        count_2 = 0\n",
    "        for t in range(df.shape[0]):\n",
    "            if t < len(action_set):\n",
    "                action = action_set[t]\n",
    "                action_chosen.append(action)\n",
    "                if c_i_data_thi[t] >= action_set[t][0]:\n",
    "                    reward = 0\n",
    "                    predictions.append(df[\"Thi_layer_P\"][t])\n",
    "                    rewards.append(reward)\n",
    "                elif c_i_data_six[t] >= action_set[t][1]:\n",
    "                    reward = c_i_data_six[t] - c_i_data_thi[t] - overhead[0]\n",
    "                    predictions.append(df[\"Six_layer_P\"][t])\n",
    "                    rewards.append(reward)\n",
    "                else:\n",
    "                    reward = c_l_data[t] - c_i_data_thi[t] - overhead[0] - overhead[1]\n",
    "                    predictions.append(df[\"Last_layer\"][t])\n",
    "                    rewards.append(reward)\n",
    "\n",
    "            else:\n",
    "\n",
    "                action = next_action(Q, c_tilde, N, t)\n",
    "                # print(action)\n",
    "                action_chosen.append(action)\n",
    "                if c_i_data_thi[t] >= action_set[action][0]:\n",
    "                    reward = 0\n",
    "                    predictions.append(df[\"Thi_layer_P\"][t])\n",
    "                    rewards.append(reward)\n",
    "                    count_1+=1\n",
    "                    for i in range(len(action_set)):\n",
    "                        if action_set[i][0] == action_set[action][0] and action_set[i][1] != action_set[action][1]:\n",
    "                            Q, N = update_parameters(Q, N, t, c_i_data_thi, c_i_data_six, c_l_data, i, overhead)\n",
    "                        elif action_set[i][0] < action_set[action][0]:\n",
    "                            Q, N = update_parameters(Q, N, t, c_i_data_thi, c_i_data_six, c_l_data, i, overhead)\n",
    "                        else:\n",
    "                            pass\n",
    "                elif c_i_data_six[t] >= action_set[action][1]:\n",
    "                    reward = c_i_data_six[t] - c_i_data_thi[t] - overhead[0]\n",
    "                    predictions.append(df[\"Six_layer_P\"][t])\n",
    "                    rewards.append(reward)\n",
    "                    count_2+=1  \n",
    "                    # Q, N = update_parameters(Q, N, t, c_i_data_thi, c_i_data_six, c_l_data, action, overhead)\n",
    "                    for i in range(len(action_set)):\n",
    "                        if action_set[i][0] > action_set[action][0] and action_set[i][1] < action_set[action][1]:\n",
    "                            Q, N = update_parameters(Q, N, t, c_i_data_thi, c_i_data_six, c_l_data, i, overhead)\n",
    "                        else:\n",
    "                            pass\n",
    "                else:\n",
    "                    reward = c_l_data[t] - c_i_data_thi[t] - overhead[0] - overhead[1]\n",
    "                    predictions.append(df[\"Last_layer\"][t])\n",
    "                    rewards.append(reward)\n",
    "                    for i in range(len(action_set)):\n",
    "                        if action_set[i][0] > action_set[action][0] and action_set[i][1] > action_set[action][1]:\n",
    "                            Q, N = update_parameters(Q, N, t, c_i_data_thi, c_i_data_six, c_l_data, i, overhead)\n",
    "                        else:\n",
    "                            pass\n",
    "                    \n",
    "                    # Q, N = update_parameters(Q, N, t, c_i_data_thi, c_i_data_six, c_l_data, action, overhead)\n",
    "                Q, N = update_parameters(Q, N, t, c_i_data_thi, c_i_data_six, c_l_data, action, overhead)\n",
    "                \n",
    "\n",
    "        return action_chosen, predictions, rewards, Q, N, count_1, count_2\n",
    "    \n",
    "    \n",
    "    Q = [0 for i in range(len(action_set))]\n",
    "    N = [0 for i in range(len(action_set))]\n",
    "    c_tilde = 2\n",
    "    Q, N = initialize(Q, N, action_set, c_i_data_thi,c_i_data_six, c_l_data, overhead)\n",
    "    action, preds, rewards, Q, N, count_1, count_2 = one_UCB_cycle(Q, N, c_tilde, c_i_data_thi, c_i_data_six, c_l_data, overhead , df)\n",
    "    \n",
    "    optimal_action = Q.index(max(Q))\n",
    "    print(\"Optimal_action is \", optimal_action)\n",
    "\n",
    "    \n",
    "    \n",
    "    preds = []\n",
    "    count = 0\n",
    "    oracle_reward = []\n",
    "    for i in range(df.shape[0]):\n",
    "        \n",
    "        if c_i_data_thi[i] > action_set[oracle_action][0]:\n",
    "            reward = 0\n",
    "            count += 1\n",
    "            preds.append(df[\"Thi_layer_P\"][i])\n",
    "            oracle_reward.append(reward)\n",
    "        elif c_i_data_six[i] > action_set[oracle_action][1]:\n",
    "            reward = c_i_data_six[i] - c_i_data_thi[i] - overhead[0]\n",
    "            count += 1\n",
    "            preds.append(df[\"Six_layer_P\"][i])\n",
    "            oracle_reward.append(reward)\n",
    "        else:\n",
    "            preds.append(df[\"Last_layer\"][i])\n",
    "            reward = c_l_data[i] - c_i_data_thi[i] - overhead[0] - overhead[1]\n",
    "            oracle_reward.append(reward)\n",
    "                \n",
    "    oracle_reward = np.array(oracle_reward)\n",
    "    rewards = np.array(rewards)\n",
    "    regret = (oracle_reward-rewards)\n",
    "    cumulative_regret = abs(np.cumsum(regret))\n",
    "    \n",
    "    \n",
    "    return cumulative_regret, count_1, count_2, action_set[optimal_action]"
   ]
  },
  {
   "cell_type": "code",
   "execution_count": 25,
   "metadata": {},
   "outputs": [
    {
     "name": "stdout",
     "output_type": "stream",
     "text": [
      "Oracle action =====>  7\n",
      "Optimal_action is  24\n"
     ]
    },
    {
     "data": {
      "text/plain": [
       "(array([  0.       ,   0.       ,   0.       , ..., 568.8227761,\n",
       "        568.8227761, 568.8227761]),\n",
       " 4959,\n",
       " 14349,\n",
       " array([0.9, 0.5]))"
      ]
     },
     "execution_count": 25,
     "metadata": {},
     "output_type": "execute_result"
    }
   ],
   "source": [
    "one_cycle(df, action_set, overhead = [0.1, 0.06])"
   ]
  },
  {
   "cell_type": "code",
   "execution_count": 54,
   "metadata": {},
   "outputs": [],
   "source": [
    "idx = []\n",
    "for i in range(df.shape[0]):\n",
    "    if i%50 == 0:\n",
    "        idx.append(i)"
   ]
  },
  {
   "cell_type": "code",
   "execution_count": 55,
   "metadata": {},
   "outputs": [
    {
     "name": "stdout",
     "output_type": "stream",
     "text": [
      "Oracle action =====>  4\n",
      "Optimal_action is  8\n",
      "Oracle action =====>  4\n",
      "Optimal_action is  5\n",
      "Oracle action =====>  4\n",
      "Optimal_action is  5\n",
      "Oracle action =====>  4\n",
      "Optimal_action is  7\n",
      "Oracle action =====>  4\n",
      "Optimal_action is  5\n"
     ]
    }
   ],
   "source": [
    "num_cycles = 5\n",
    "reg_lis = []\n",
    "\n",
    "\n",
    "\n",
    "for i in range(num_cycles):\n",
    "    df = df.sample(frac = 1)\n",
    "    cum_reg,_,_,_ = one_cycle(df, action_set, overhead = [0.06, 0.04])\n",
    "\n",
    "\n",
    "    reg_lis.append([cum_reg[j] for j in idx])\n",
    "    \n",
    "reg_lis = np.array(reg_lis)"
   ]
  },
  {
   "cell_type": "code",
   "execution_count": 569,
   "metadata": {},
   "outputs": [
    {
     "data": {
      "text/plain": [
       "500"
      ]
     },
     "execution_count": 569,
     "metadata": {},
     "output_type": "execute_result"
    }
   ],
   "source": [
    "len(reg_lis[0])"
   ]
  },
  {
   "cell_type": "code",
   "execution_count": 570,
   "metadata": {},
   "outputs": [],
   "source": [
    "lower = []\n",
    "upper = []\n",
    "\n",
    "for i in range(len(reg_lis[0])):\n",
    "\n",
    "    intrval = st.t.interval(alpha=0.95, df=len(reg_lis[:,i])-1,\n",
    "            loc=np.mean(reg_lis[:,i]),\n",
    "            scale=st.sem(reg_lis[:,i]))\n",
    "        \n",
    "    lower.append(intrval[0])\n",
    "    upper.append(intrval[1])"
   ]
  },
  {
   "cell_type": "code",
   "execution_count": 571,
   "metadata": {},
   "outputs": [
    {
     "data": {
      "text/plain": [
       "500"
      ]
     },
     "execution_count": 571,
     "metadata": {},
     "output_type": "execute_result"
    }
   ],
   "source": [
    "len(lower)"
   ]
  },
  {
   "cell_type": "markdown",
   "metadata": {},
   "source": [
    "# Other-Exit"
   ]
  },
  {
   "cell_type": "code",
   "execution_count": 226,
   "metadata": {},
   "outputs": [],
   "source": [
    "def one_action_cycle(df, action_set, action, overhead):\n",
    "    c_i_data_thi = []\n",
    "    for i in df[\"PProb_thi\"]:\n",
    "        c_i_data_thi.append(i)\n",
    "\n",
    "    c_i_data_six = []\n",
    "    for i in df[\"PProb_six\"]:\n",
    "        c_i_data_six.append(i)\n",
    "\n",
    "    c_l_data = []\n",
    "    for i in df[\"PProb_las\"]:\n",
    "        c_l_data.append(i)\n",
    "\n",
    "    # number_of_actions = 10\n",
    "    # action_set = [0.10*((i+10)/2) for i in range(number_of_actions)]\n",
    "        \n",
    "    # action_set_1 = [0.10*((i+10)/3) for i in range(20)]\n",
    "    # action_set = []\n",
    "    # for i in range(len(action_set_1)):\n",
    "    #     if i%2 == 0:\n",
    "    #         action_set.append(action_set_1[i])\n",
    "    # print(action_set)\n",
    "    \n",
    " \n",
    "    def oracle_action(overhead):\n",
    "        oracle_reward = []\n",
    "        for i in action_set:\n",
    "            o_reward = 0 \n",
    "            for t in range(df.shape[0]):\n",
    "                if c_i_data_thi[t] >= i[0]:\n",
    "                    reward = 0\n",
    "    #                 predictions.append(df[\"Fou_layer_P\"][t])\n",
    "                elif c_i_data_six[t] >= i[1]:\n",
    "                    reward = c_i_data_six[t] -  c_i_data_thi[t] - overhead[0]\n",
    "                else:\n",
    "                    reward = c_l_data[t] - c_i_data_thi[t] - overhead[0] - overhead[1]\n",
    "                o_reward += reward\n",
    "    #         print(oracle_reward)\n",
    "            oracle_reward.append(o_reward/df.shape[0])\n",
    "\n",
    "        return oracle_reward.index(max(oracle_reward)), oracle_reward\n",
    "    oracle_action, o_reward = oracle_action(overhead)\n",
    "    \n",
    "    \n",
    "    print(\"Oracle action =====> \", oracle_action)\n",
    "    \n",
    "    \n",
    "    preds = []\n",
    "    count = 0\n",
    "    oracle_reward = []\n",
    "    for i in range(df.shape[0]):\n",
    "        if c_i_data_thi[i] > action_set[oracle_action][0]:\n",
    "            reward = 0\n",
    "            count += 1\n",
    "            preds.append(df[\"Thi_layer_P\"][i])\n",
    "            oracle_reward.append(reward)\n",
    "        elif c_i_data_six[i] >= action_set[oracle_action][1]:\n",
    "            reward = c_i_data_six[i] -  c_i_data_thi[i] - overhead[0]\n",
    "            preds.append(df[\"Six_layer_P\"][i])\n",
    "            oracle_reward.append(reward)\n",
    "        else:\n",
    "            preds.append(df[\"Last_layer\"][i])\n",
    "            reward = c_l_data[i] - c_i_data_thi[i] - overhead[0] - overhead[1]\n",
    "            oracle_reward.append(reward)\n",
    "    \n",
    "    \n",
    "#     action = random.choice(action_set)\n",
    "    print(\"Action is \", action)\n",
    "    \n",
    "#     preds = []\n",
    "#     count_1 = 0\n",
    "    rewards = []\n",
    "    for i in range(df.shape[0]):\n",
    "        \n",
    "        if c_i_data_thi[i] >= action[0]:\n",
    "            reward = 0\n",
    "#                 count_1 += 1\n",
    "            preds.append(df[\"Thi_layer_P\"][i])\n",
    "            rewards.append(reward)\n",
    "        elif c_i_data_six[i] >= action[1]:\n",
    "            reward = c_i_data_six[i] - c_i_data_thi[i] - overhead[0]\n",
    "#                 count_1 += 1\n",
    "            preds.append(df[\"Six_layer_P\"][i])\n",
    "            rewards.append(reward)\n",
    "        else:\n",
    "            preds.append(df[\"Last_layer\"][i])\n",
    "            reward = c_l_data[i] - c_i_data_thi[i] - overhead[0] - overhead[1]\n",
    "            rewards.append(reward)\n",
    "    \n",
    "                \n",
    "    oracle_reward = np.array(oracle_reward)\n",
    "    rewards = np.array(rewards)\n",
    "    regret = (oracle_reward-rewards)\n",
    "    cumulative_regret = abs(np.cumsum(regret))\n",
    "    # print(oracle_reward,'\\n', rewards)\n",
    "    \n",
    "    \n",
    "    return cumulative_regret"
   ]
  },
  {
   "cell_type": "code",
   "execution_count": 227,
   "metadata": {},
   "outputs": [
    {
     "name": "stdout",
     "output_type": "stream",
     "text": [
      "Oracle action =====>  2\n",
      "Action is  [0.5, 0.5]\n",
      "Oracle action =====>  2\n",
      "Action is  [0.5, 0.5]\n",
      "Oracle action =====>  2\n",
      "Action is  [0.5, 0.5]\n",
      "Oracle action =====>  2\n",
      "Action is  [0.5, 0.5]\n",
      "Oracle action =====>  2\n",
      "Action is  [0.5, 0.5]\n"
     ]
    }
   ],
   "source": [
    "reg_lis_3 = []\n",
    "\n",
    "for i in range(num_cycles):\n",
    "    df = df.sample(frac = 1)\n",
    "    cum_reg_3 = one_action_cycle(df, action_set, [0.5, 0.5], overhead = [0.06, 0.04])  \n",
    "    reg_lis_3.append([cum_reg_3[j] for j in idx])\n",
    "    \n",
    "reg_lis_3 = np.array(reg_lis_3)"
   ]
  },
  {
   "cell_type": "code",
   "execution_count": 228,
   "metadata": {},
   "outputs": [
    {
     "name": "stdout",
     "output_type": "stream",
     "text": [
      "[[2.37580440e-01 1.00717319e+00 1.26914087e+00 ... 1.06606444e+04\n",
      "  1.06624674e+04 1.06640965e+04]\n",
      " [0.00000000e+00 3.00805800e-01 2.00150289e+00 ... 1.06627953e+04\n",
      "  1.06634781e+04 1.06644543e+04]\n",
      " [0.00000000e+00 2.06223994e+00 3.05288888e+00 ... 1.06618542e+04\n",
      "  1.06637196e+04 1.06642094e+04]\n",
      " [1.54345000e-03 4.48046060e-01 2.53044199e+00 ... 1.06607370e+04\n",
      "  1.06621207e+04 1.06634641e+04]\n",
      " [4.02675000e-02 1.01745275e+00 4.78274700e-02 ... 1.06635639e+04\n",
      "  1.06645385e+04 1.06647254e+04]]\n"
     ]
    }
   ],
   "source": [
    "print(reg_lis_3)"
   ]
  },
  {
   "cell_type": "code",
   "execution_count": 528,
   "metadata": {},
   "outputs": [],
   "source": [
    "lower_3 = []\n",
    "upper_3 = []\n",
    "\n",
    "for i in range(len(reg_lis[0])):\n",
    "    intrval = st.t.interval(alpha=0.95, df=len(reg_lis_3[:,i])-1,\n",
    "              loc=np.mean(reg_lis_3[:,i]),\n",
    "              scale=st.sem(reg_lis_3[:,i]))\n",
    "\n",
    "        \n",
    "    lower_3.append(intrval[0])\n",
    "    upper_3.append(intrval[1])"
   ]
  },
  {
   "cell_type": "code",
   "execution_count": 529,
   "metadata": {},
   "outputs": [
    {
     "data": {
      "text/plain": [
       "500"
      ]
     },
     "execution_count": 529,
     "metadata": {},
     "output_type": "execute_result"
    }
   ],
   "source": [
    "len(lower_3)"
   ]
  },
  {
   "attachments": {},
   "cell_type": "markdown",
   "metadata": {},
   "source": [
    "# $\\alpha = 0.8$"
   ]
  },
  {
   "cell_type": "code",
   "execution_count": 530,
   "metadata": {},
   "outputs": [
    {
     "name": "stdout",
     "output_type": "stream",
     "text": [
      "Oracle action =====>  3\n",
      "Action is  [0.8, 0.8]\n",
      "Oracle action =====>  3\n",
      "Action is  [0.8, 0.8]\n",
      "Oracle action =====>  3\n",
      "Action is  [0.8, 0.8]\n",
      "Oracle action =====>  3\n",
      "Action is  [0.8, 0.8]\n",
      "Oracle action =====>  3\n",
      "Action is  [0.8, 0.8]\n"
     ]
    }
   ],
   "source": [
    "reg_lis_4 = []\n",
    "\n",
    "for i in range(num_cycles):\n",
    "    df = df.sample(frac = 1)\n",
    "    cum_reg_4 = one_action_cycle(df, action_set, [0.8, 0.8], overhead = [0.06, 0.04])\n",
    "\n",
    "        \n",
    "    reg_lis_4.append([cum_reg_4[j] for j in idx])\n",
    "    \n",
    "reg_lis_4 = np.array(reg_lis_4)"
   ]
  },
  {
   "cell_type": "code",
   "execution_count": 531,
   "metadata": {},
   "outputs": [
    {
     "name": "stdout",
     "output_type": "stream",
     "text": [
      "[[0.00000000e+00 7.03806900e-01 1.70017717e+00 ... 4.94002854e+02\n",
      "  4.95103253e+02 4.96382100e+02]\n",
      " [2.22744500e-01 1.73972566e+00 3.40282707e+00 ... 4.94036876e+02\n",
      "  4.95167687e+02 4.96271582e+02]\n",
      " [0.00000000e+00 1.24530066e+00 1.79292560e+00 ... 4.93264847e+02\n",
      "  4.94498502e+02 4.95970480e+02]\n",
      " [1.78555700e-02 6.42832400e-02 4.56730960e-01 ... 4.91908433e+02\n",
      "  4.94311654e+02 4.95240447e+02]\n",
      " [0.00000000e+00 8.99576330e-01 1.79825843e+00 ... 4.93006557e+02\n",
      "  4.93806218e+02 4.94907875e+02]]\n"
     ]
    }
   ],
   "source": [
    "print(reg_lis_4)"
   ]
  },
  {
   "cell_type": "code",
   "execution_count": 532,
   "metadata": {},
   "outputs": [],
   "source": [
    "upper_4 = []\n",
    "lower_4 = []\n",
    "\n",
    "for i in range(len(reg_lis[0])):\n",
    "    intrval = st.t.interval(alpha=0.95, df=len(reg_lis_4[:,i])-1,\n",
    "              loc=np.mean(reg_lis_4[:,i]),\n",
    "              scale=st.sem(reg_lis_4[:,i]))\n",
    "        \n",
    "    lower_4.append(intrval[0])\n",
    "    upper_4.append(intrval[1])"
   ]
  },
  {
   "attachments": {},
   "cell_type": "markdown",
   "metadata": {},
   "source": [
    "# $\\alpha = 0.9$  "
   ]
  },
  {
   "cell_type": "code",
   "execution_count": 533,
   "metadata": {},
   "outputs": [
    {
     "name": "stdout",
     "output_type": "stream",
     "text": [
      "Oracle action =====>  3\n",
      "Action is  [0.9, 0.8]\n",
      "Oracle action =====>  3\n",
      "Action is  [0.9, 0.8]\n",
      "Oracle action =====>  3\n",
      "Action is  [0.9, 0.8]\n",
      "Oracle action =====>  3\n",
      "Action is  [0.9, 0.8]\n",
      "Oracle action =====>  3\n",
      "Action is  [0.9, 0.8]\n"
     ]
    }
   ],
   "source": [
    "reg_lis_5 = []\n",
    "for i in range(num_cycles):\n",
    "    df = df.sample(frac = 1)\n",
    "    cum_reg_5 = one_action_cycle(df, action_set, [0.9, 0.8], overhead = [0.06, 0.04])\n",
    "        \n",
    "    reg_lis_5.append([cum_reg_5[j] for j in idx])\n",
    "    \n",
    "reg_lis_5 = np.array(reg_lis_5)"
   ]
  },
  {
   "cell_type": "code",
   "execution_count": 534,
   "metadata": {},
   "outputs": [
    {
     "name": "stdout",
     "output_type": "stream",
     "text": [
      "[[0.00000000e+00 7.78569000e-01 1.22367479e+00 ... 5.53457701e+02\n",
      "  5.54583473e+02 5.56572528e+02]\n",
      " [3.37096000e-02 8.28488520e-01 2.31399592e+00 ... 5.54128650e+02\n",
      "  5.55012380e+02 5.56032354e+02]\n",
      " [1.00738500e-01 2.96955230e-01 1.47895032e+00 ... 5.55597403e+02\n",
      "  5.56813232e+02 5.56842206e+02]\n",
      " [0.00000000e+00 1.40246080e+00 2.27660586e+00 ... 5.53728575e+02\n",
      "  5.54863998e+02 5.56035799e+02]\n",
      " [0.00000000e+00 7.81011600e-01 2.39249820e+00 ... 5.54857343e+02\n",
      "  5.56460768e+02 5.57065170e+02]]\n"
     ]
    }
   ],
   "source": [
    "print(reg_lis_5)"
   ]
  },
  {
   "cell_type": "code",
   "execution_count": 535,
   "metadata": {},
   "outputs": [],
   "source": [
    "lower_5 = []\n",
    "upper_5 = []\n",
    "\n",
    "for i in range(len(reg_lis[0])):\n",
    "    intrval = st.t.interval(alpha=0.95, df=len(reg_lis_5[:,i])-1,\n",
    "              loc=np.mean(reg_lis_5[:,i]),\n",
    "              scale=st.sem(reg_lis_5[:,i]))\n",
    "        \n",
    "    lower_5.append(intrval[0])\n",
    "    upper_5.append(intrval[1])"
   ]
  },
  {
   "cell_type": "code",
   "execution_count": 536,
   "metadata": {},
   "outputs": [
    {
     "data": {
      "text/plain": [
       "500"
      ]
     },
     "execution_count": 536,
     "metadata": {},
     "output_type": "execute_result"
    }
   ],
   "source": [
    "len(lower_5)"
   ]
  },
  {
   "attachments": {},
   "cell_type": "markdown",
   "metadata": {},
   "source": [
    "# $Final-Exit$ "
   ]
  },
  {
   "cell_type": "code",
   "execution_count": 537,
   "metadata": {},
   "outputs": [
    {
     "name": "stdout",
     "output_type": "stream",
     "text": [
      "Oracle action =====>  3\n",
      "Action is  [1.0, 0.9]\n",
      "Oracle action =====>  3\n",
      "Action is  [1.0, 0.9]\n",
      "Oracle action =====>  3\n",
      "Action is  [1.0, 0.9]\n",
      "Oracle action =====>  3\n",
      "Action is  [1.0, 0.9]\n",
      "Oracle action =====>  3\n",
      "Action is  [1.0, 0.9]\n"
     ]
    }
   ],
   "source": [
    "reg_lis_fin = []\n",
    "for i in range(num_cycles):\n",
    "    df = df.sample(frac = 1)\n",
    "    cum_reg_fin = one_action_cycle(df, action_set, [1.0, 0.9], overhead = [0.06, 0.04])\n",
    "        \n",
    "    reg_lis_fin.append([cum_reg_fin[j] for j in idx])\n",
    "    \n",
    "reg_lis_fin = np.array(reg_lis_fin)"
   ]
  },
  {
   "cell_type": "code",
   "execution_count": 538,
   "metadata": {},
   "outputs": [
    {
     "name": "stdout",
     "output_type": "stream",
     "text": [
      "[[4.66044700e-02 2.44747277e+00 3.70055990e+00 ... 1.24770937e+03\n",
      "  1.24997572e+03 1.25416903e+03]\n",
      " [0.00000000e+00 1.57267035e+00 3.36576400e+00 ... 1.24662233e+03\n",
      "  1.24969114e+03 1.25336445e+03]\n",
      " [0.00000000e+00 2.69927069e+00 6.03301644e+00 ... 1.24996734e+03\n",
      "  1.25168095e+03 1.25402427e+03]\n",
      " [6.97896500e-02 2.05443731e+00 4.14554593e+00 ... 1.24761464e+03\n",
      "  1.25023237e+03 1.25339625e+03]\n",
      " [7.16353000e-02 1.82834798e+00 4.17145488e+00 ... 1.24888419e+03\n",
      "  1.25127419e+03 1.25368540e+03]]\n"
     ]
    }
   ],
   "source": [
    "print(reg_lis_fin)"
   ]
  },
  {
   "cell_type": "code",
   "execution_count": 539,
   "metadata": {},
   "outputs": [],
   "source": [
    "lower_fin = []\n",
    "upper_fin = []\n",
    "\n",
    "for i in range(len(reg_lis[0])):\n",
    "    intrval = st.t.interval(alpha=0.95, df=len(reg_lis_fin[:,i])-1,\n",
    "              loc=np.mean(reg_lis_fin[:,i]),\n",
    "              scale=st.sem(reg_lis_fin[:,i]))\n",
    "        \n",
    "    lower_fin.append(intrval[0])\n",
    "    upper_fin.append(intrval[1])"
   ]
  },
  {
   "cell_type": "code",
   "execution_count": 540,
   "metadata": {},
   "outputs": [
    {
     "data": {
      "image/png": "[encoded data removed]",
      "text/plain": [
       "<Figure size 432x288 with 1 Axes>"
      ]
     },
     "metadata": {
      "needs_background": "light"
     },
     "output_type": "display_data"
    }
   ],
   "source": [
    "x = [i for i in range(len(idx))]\n",
    "plt.plot(reg_lis.mean(axis = 0) ,'g', label=\"UBERT\",linestyle = 'solid')\n",
    "plt.fill_between(x, lower, upper, color='green', alpha=0.1)\n",
    "plt.plot(reg_lis_3.mean(axis = 0) ,'orange', label=\"alpha = [0.6, 0.5]\", linestyle = 'dashed')\n",
    "plt.fill_between(x, lower_3, upper_3, color='orange', alpha=0.1)\n",
    "plt.plot(reg_lis_4.mean(axis = 0) ,'red', label=\"alpha = [0.9, 0.8]\", linestyle = 'dashdot')\n",
    "plt.fill_between(x, lower_4, upper_4, color='red', alpha=0.1)\n",
    "plt.plot(reg_lis_5.mean(axis = 0) ,'blue', label=\"alpha = [0.5,0.5]\",linestyle = 'dotted')\n",
    "plt.fill_between(x, lower_5, upper_5, color='blue', alpha=0.1)\n",
    "plt.plot(reg_lis_fin.mean(axis = 0) ,'brown', label=\"alpha = [1.0, 0.9](Final-Exit)\",linestyle = 'dashed')\n",
    "plt.fill_between(x, lower_fin, upper_fin, color='brown', alpha=0.1)\n",
    "plt.legend()\n",
    "plt.xlabel(\"Time horizon\")\n",
    "plt.ylabel(\"Cumulative regret\")\n",
    "plt.title(\"IMDb\")\n",
    "plt.savefig('/home/divya/UBERT/Regret_plot_reduced/Regret_plot_imdb.pdf')\n",
    "plt.show()"
   ]
  },
  {
   "cell_type": "code",
   "execution_count": 19,
   "metadata": {},
   "outputs": [],
   "source": [
    "# num_cycles = 5\n",
    "def accuracy_lat_calcu(df, optimal_action, overhead = [0.06, 0.04]):\n",
    "    c_i_data_thi = []\n",
    "    for i in df[\"PProb_thi\"]:\n",
    "        c_i_data_thi.append(i)\n",
    "\n",
    "    c_i_data_six = []\n",
    "    for i in df[\"PProb_six\"]:\n",
    "        c_i_data_six.append(i)\n",
    "\n",
    "    c_l_data = []\n",
    "    for i in df[\"PProb_las\"]:\n",
    "        c_l_data.append(i)\n",
    "\n",
    "    preds = []\n",
    "    count_1 = 0\n",
    "    count_2 = 0\n",
    "    for i in range(df.shape[0]):\n",
    "        \n",
    "        if c_i_data_thi[i] >= optimal_action[0]:\n",
    "            # reward = 0\n",
    "            count_1+=1\n",
    "#                 count_1 += 1\n",
    "            preds.append(df[\"Thi_layer_P\"][i])\n",
    "        elif c_i_data_six[i] >= optimal_action[1]:\n",
    "            # reward = c_i_data_six[i] - c_i_data_thi[i] - overhead[0]\n",
    "            count_2+=1  \n",
    "            preds.append(df[\"Six_layer_P\"][i])\n",
    "            # rewards.append(reward)\n",
    "        else:\n",
    "            preds.append(df[\"Last_layer\"][i])\n",
    "            # reward = c_l_data[i] - c_i_data_thi[i] - overhead[0] - overhead[1]\n",
    "            # rewards.append(reward)\n",
    "    accuracy = 0\n",
    "    for i in range(df.shape[0]):\n",
    "        if preds[i] == df[\"True_labels\"][i]:\n",
    "            accuracy+=1\n",
    "        else:\n",
    "            pass\n",
    "    return accuracy/df.shape[0], count_1/df.shape[0], count_2/df.shape[0]\n",
    "\n",
    "    "
   ]
  },
  {
   "cell_type": "code",
   "execution_count": 20,
   "metadata": {},
   "outputs": [
    {
     "name": "stdout",
     "output_type": "stream",
     "text": [
      "Oracle action =====>  44\n",
      "Optimal_action is  54\n",
      "Optimal action is: [0.9 0.9] \n",
      "=============================\n",
      " Fraction of Exits at first layer 0.46788940726326844 \n",
      "=============================\n",
      " Fraction of Exits at second layer 0.3183500283053041 \n",
      "=============================\n",
      " Total latency 0.21376056443142744\n",
      "Oracle action =====>  44\n",
      "Optimal_action is  54\n",
      "Optimal action is: [0.9 0.9] \n",
      "=============================\n",
      " Fraction of Exits at first layer 0.46788940726326844 \n",
      "=============================\n",
      " Fraction of Exits at second layer 0.3183500283053041 \n",
      "=============================\n",
      " Total latency 0.21376056443142744\n",
      "Oracle action =====>  44\n",
      "Optimal_action is  54\n",
      "Optimal action is: [0.9 0.9] \n",
      "=============================\n",
      " Fraction of Exits at first layer 0.46788940726326844 \n",
      "=============================\n",
      " Fraction of Exits at second layer 0.3183500283053041 \n",
      "=============================\n",
      " Total latency 0.21376056443142744\n",
      "Oracle action =====>  44\n",
      "Optimal_action is  54\n",
      "Optimal action is: [0.9 0.9] \n",
      "=============================\n",
      " Fraction of Exits at first layer 0.46788940726326844 \n",
      "=============================\n",
      " Fraction of Exits at second layer 0.3183500283053041 \n",
      "=============================\n",
      " Total latency 0.21376056443142744\n",
      "Oracle action =====>  44\n"
     ]
    }
   ],
   "source": [
    "num_cycles = 5\n",
    "accuracy_lis = []\n",
    "latency_lis = []\n",
    "for i in range(num_cycles):\n",
    "    df = df.sample(frac = 1)\n",
    "    _,_,_,optimal_action = one_cycle(df, action_set, overhead = [0.06, 0.04])\n",
    "    accuracy, count_1, count_2 = accuracy_lat_calcu(df, optimal_action, overhead = [0.06, 0.04])\n",
    "    latency = count_1+count_2\n",
    "    print(\"Optimal action is:\", optimal_action,\n",
    "          \"\\n=============================\\n Fraction of Exits at first layer\",count_1,\n",
    "          \"\\n=============================\\n Fraction of Exits at second layer\", count_2,\n",
    "          \"\\n=============================\\n Total latency\", 1-(count_1+count_2)\n",
    "              )\n",
    "    accuracy_lis.append(accuracy)\n",
    "    latency_lis.append(latency)\n",
    "accuracy_lis = np.array(accuracy_lis)\n",
    "latency_lis = np.array(latency_lis)\n",
    "    "
   ]
  },
  {
   "cell_type": "code",
   "execution_count": 18,
   "metadata": {},
   "outputs": [
    {
     "name": "stdout",
     "output_type": "stream",
     "text": [
      "0.78104\n"
     ]
    }
   ],
   "source": [
    "print(np.mean(accuracy_lis))"
   ]
  },
  {
   "cell_type": "code",
   "execution_count": 1,
   "metadata": {},
   "outputs": [
    {
     "ename": "NameError",
     "evalue": "name 'np' is not defined",
     "output_type": "error",
     "traceback": [
      "\u001b[0;31m---------------------------------------------------------------------------\u001b[0m",
      "\u001b[0;31mNameError\u001b[0m                                 Traceback (most recent call last)",
      "\u001b[1;32m/home/divya/UBERT/UBERT_for_2_layers_reduced.ipynb Cell 40\u001b[0m in \u001b[0;36m<cell line: 1>\u001b[0;34m()\u001b[0m\n\u001b[0;32m----> <a href='vscode-notebook-cell://ssh-remote%2B10.119.2.18/home/divya/UBERT/UBERT_for_2_layers_reduced.ipynb#X54sdnNjb2RlLXJlbW90ZQ%3D%3D?line=0'>1</a>\u001b[0m \u001b[39mprint\u001b[39m(np\u001b[39m.\u001b[39mmean(latency_lis))\n",
      "\u001b[0;31mNameError\u001b[0m: name 'np' is not defined"
     ]
    }
   ],
   "source": [
    "print(np.mean(latency_lis))"
   ]
  },
  {
   "cell_type": "code",
   "execution_count": null,
   "metadata": {},
   "outputs": [],
   "source": []
  }
 ],
 "metadata": {
  "colab": {
   "provenance": []
  },
  "kernelspec": {
   "display_name": "Python 3",
   "language": "python",
   "name": "python3"
  },
  "language_info": {
   "codemirror_mode": {
    "name": "ipython",
    "version": 3
   },
   "file_extension": ".py",
   "mimetype": "text/x-python",
   "name": "python",
   "nbconvert_exporter": "python",
   "pygments_lexer": "ipython3",
   "version": "3.8.10"
  },
  "vscode": {
   "interpreter": {
    "hash": "e7370f93d1d0cde622a1f8e1c04877d8463912d04d973331ad4851f04de6915a"
   }
  }
 },
 "nbformat": 4,
 "nbformat_minor": 1
}
