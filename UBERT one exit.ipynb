{
 "cells": [
  {
   "cell_type": "code",
   "execution_count": 3,
   "metadata": {
    "id": "Tu4XH1qvIu1m"
   },
   "outputs": [],
   "source": [
    "import numpy as np\n",
    "import pandas as pd\n",
    "from scipy.stats import entropy\n",
    "import scipy.stats as st\n",
    "import matplotlib.pyplot as plt\n",
    "import random"
   ]
  },
  {
   "cell_type": "code",
   "execution_count": 4,
   "metadata": {
    "colab": {
     "base_uri": "https://localhost:8080/",
     "height": 206
    },
    "id": "LPVyU-8-xOuI",
    "outputId": "18f44abc-28b3-4464-ccbf-a1ecdad308aa"
   },
   "outputs": [
    {
     "data": {
      "text/html": [
       "<div>\n",
       "<style scoped>\n",
       "    .dataframe tbody tr th:only-of-type {\n",
       "        vertical-align: middle;\n",
       "    }\n",
       "\n",
       "    .dataframe tbody tr th {\n",
       "        vertical-align: top;\n",
       "    }\n",
       "\n",
       "    .dataframe thead th {\n",
       "        text-align: right;\n",
       "    }\n",
       "</style>\n",
       "<table border=\"1\" class=\"dataframe\">\n",
       "  <thead>\n",
       "    <tr style=\"text-align: right;\">\n",
       "      <th></th>\n",
       "      <th>Unnamed: 0</th>\n",
       "      <th>Thi_layer_P</th>\n",
       "      <th>Fou_layer_P</th>\n",
       "      <th>Last_layer</th>\n",
       "      <th>PProb_thi</th>\n",
       "      <th>PProb_fou</th>\n",
       "      <th>PProb_las</th>\n",
       "      <th>True_labels</th>\n",
       "    </tr>\n",
       "  </thead>\n",
       "  <tbody>\n",
       "    <tr>\n",
       "      <th>0</th>\n",
       "      <td>0</td>\n",
       "      <td>0</td>\n",
       "      <td>0</td>\n",
       "      <td>0</td>\n",
       "      <td>0.753920</td>\n",
       "      <td>0.800089</td>\n",
       "      <td>0.845397</td>\n",
       "      <td>0</td>\n",
       "    </tr>\n",
       "    <tr>\n",
       "      <th>1</th>\n",
       "      <td>1</td>\n",
       "      <td>0</td>\n",
       "      <td>1</td>\n",
       "      <td>1</td>\n",
       "      <td>0.594112</td>\n",
       "      <td>0.815985</td>\n",
       "      <td>0.813593</td>\n",
       "      <td>1</td>\n",
       "    </tr>\n",
       "    <tr>\n",
       "      <th>2</th>\n",
       "      <td>2</td>\n",
       "      <td>0</td>\n",
       "      <td>0</td>\n",
       "      <td>0</td>\n",
       "      <td>0.822457</td>\n",
       "      <td>0.724403</td>\n",
       "      <td>0.820971</td>\n",
       "      <td>0</td>\n",
       "    </tr>\n",
       "    <tr>\n",
       "      <th>3</th>\n",
       "      <td>3</td>\n",
       "      <td>0</td>\n",
       "      <td>0</td>\n",
       "      <td>0</td>\n",
       "      <td>0.743167</td>\n",
       "      <td>0.728612</td>\n",
       "      <td>0.674946</td>\n",
       "      <td>0</td>\n",
       "    </tr>\n",
       "    <tr>\n",
       "      <th>4</th>\n",
       "      <td>4</td>\n",
       "      <td>1</td>\n",
       "      <td>1</td>\n",
       "      <td>1</td>\n",
       "      <td>0.638572</td>\n",
       "      <td>0.865548</td>\n",
       "      <td>0.837171</td>\n",
       "      <td>1</td>\n",
       "    </tr>\n",
       "  </tbody>\n",
       "</table>\n",
       "</div>"
      ],
      "text/plain": [
       "   Unnamed: 0  Thi_layer_P  Fou_layer_P  Last_layer  PProb_thi  PProb_fou  \\\n",
       "0           0            0            0           0   0.753920   0.800089   \n",
       "1           1            0            1           1   0.594112   0.815985   \n",
       "2           2            0            0           0   0.822457   0.724403   \n",
       "3           3            0            0           0   0.743167   0.728612   \n",
       "4           4            1            1           1   0.638572   0.865548   \n",
       "\n",
       "   PProb_las  True_labels  \n",
       "0   0.845397            0  \n",
       "1   0.813593            1  \n",
       "2   0.820971            0  \n",
       "3   0.674946            0  \n",
       "4   0.837171            1  "
      ]
     },
     "execution_count": 4,
     "metadata": {},
     "output_type": "execute_result"
    }
   ],
   "source": [
    "df = pd.read_csv(\"/home/divya/UBERT/CSV_files/Early_Exit_Confidence_data_yelp_max_exits(3,4,12)_difference.csv\")\n",
    "df.head(5)"
   ]
  },
  {
   "cell_type": "code",
   "execution_count": 77,
   "metadata": {},
   "outputs": [],
   "source": [
    "# accuracy_imdb = []\n",
    "# for j in df.columns:\n",
    "#   accuracy = 0\n",
    "#   for i in range(df.shape[0]):\n",
    "#       if df[j][i] == df['True_labels'][i]:\n",
    "#           accuracy += 1\n",
    "#       else:\n",
    "#           pass\n",
    "#   print(\"Accuracy = \", accuracy/df.shape[0])\n",
    "#   accuracy_imdb.append(accuracy)"
   ]
  },
  {
   "cell_type": "code",
   "execution_count": 78,
   "metadata": {},
   "outputs": [],
   "source": [
    "number_of_actions = 10\n",
    "action_set = [0.10*((i+10)/2) for i in range(number_of_actions)]\n",
    "# action_set_1 = [0.10*((i+10)/3) for i in range(20)]\n",
    "# action_set = []\n",
    "# for i in range(len(action_set_1)):\n",
    "#     if i%2 == 0:\n",
    "#         action_set.append(action_set_1[i])"
   ]
  },
  {
   "cell_type": "code",
   "execution_count": 79,
   "metadata": {},
   "outputs": [
    {
     "name": "stdout",
     "output_type": "stream",
     "text": [
      "[0.5, 0.55, 0.6000000000000001, 0.65, 0.7000000000000001, 0.75, 0.8, 0.8500000000000001, 0.9, 0.9500000000000001]\n"
     ]
    }
   ],
   "source": [
    "print((action_set))"
   ]
  },
  {
   "attachments": {},
   "cell_type": "markdown",
   "metadata": {},
   "source": [
    "# One_UBERT_Cycle"
   ]
  },
  {
   "cell_type": "code",
   "execution_count": 80,
   "metadata": {},
   "outputs": [],
   "source": [
    "def one_cycle(df, overhead):\n",
    "    c_i_data = []\n",
    "    for i in df[\"PProb_thi\"]:\n",
    "        c_i_data.append(i)\n",
    "        \n",
    "        \n",
    "    c_l_data = []\n",
    "    for i in df[\"PProb_las\"]:\n",
    "        c_l_data.append(i)\n",
    "        \n",
    "    number_of_actions = 10\n",
    "    action_set = [0.10*((i+10)/2) for i in range(number_of_actions)]\n",
    "\n",
    "    # action_set_1 = [0.10*((i+10)/3) for i in range(20)]\n",
    "    # action_set = []\n",
    "    # for i in range(len(action_set_1)):\n",
    "    #     if i%2 == 0:\n",
    "    #         action_set.append(action_set_1[i])\n",
    "    \n",
    "    \n",
    "    def reward(c_i, c_l, action, overhead):\n",
    "        if c_i >= action_set[action]:\n",
    "            reward = 0\n",
    "        else:\n",
    "            reward = c_l - c_i - overhead\n",
    "        return reward\n",
    "    \n",
    "    \n",
    "    def next_action(Q, c_tilde, N, t):\n",
    "      # Q is the list of rewards\n",
    "      # c_tilde is the hyperparameter\n",
    "      # N is the number of times an action is chosen\n",
    "        next_a = []\n",
    "        for i in range(len(action_set)):\n",
    "\n",
    "            next_a.append(Q[i] + c_tilde*((np.log(t)/N[i])**(0.5)))\n",
    "\n",
    "        return next_a.index(max(next_a))\n",
    "    \n",
    "    \n",
    "    def update_parameters(Q, N, t, c_i_data, c_l_data, chosen_action, overhead):\n",
    "        n = N[chosen_action]\n",
    "        N[chosen_action] += 1\n",
    "        Q[chosen_action] = (n*Q[chosen_action] + reward(c_i_data[t], c_l_data[t], chosen_action, overhead))/N[chosen_action]\n",
    "        return Q, N\n",
    "    \n",
    "    \n",
    "\n",
    "    def initialize(Q, N, action_set, c_i_data, c_l_data, overhead):\n",
    "        for t in range(len(action_set)):\n",
    "            update_parameters(Q, N, t, c_i_data, c_l_data, t, overhead)\n",
    "        # print(N)\n",
    "        return Q, N\n",
    "    \n",
    "    \n",
    "    \n",
    "    \n",
    "    def oracle_action(overhead):\n",
    "        oracle_reward = []\n",
    "        for i in action_set:\n",
    "            o_reward = 0 \n",
    "            for t in range(df.shape[0]):\n",
    "                if c_i_data[t] >= i:\n",
    "                    reward = 0\n",
    "    #                 predictions.append(df[\"Fou_layer_P\"][t])\n",
    "                else:\n",
    "                    reward = c_l_data[t] - c_i_data[t] - overhead\n",
    "                o_reward += reward\n",
    "    #         print(oracle_reward)\n",
    "            oracle_reward.append(o_reward/df.shape[0])\n",
    "\n",
    "        return oracle_reward.index(max(oracle_reward)), oracle_reward\n",
    "    oracle_action, o_reward = oracle_action(overhead)\n",
    "    \n",
    "    \n",
    "    print(\"Oracle action =====> \", oracle_action)\n",
    "    \n",
    "    \n",
    "    \n",
    "    def one_UCB_cycle(Q, N, c_tilde, c_i_data, c_l_data, overhead, df):\n",
    "        action_chosen = []\n",
    "        predictions = []\n",
    "        rewards = []\n",
    "        count_1 = 0\n",
    "        for t in range(df.shape[0]):\n",
    "            if t < len(action_set):\n",
    "                action = action_set[t]\n",
    "                action_chosen.append(action)\n",
    "                if c_i_data[t] >= action_set[t]:\n",
    "                    reward = 0\n",
    "                    predictions.append(df[\"Thi_layer_P\"][t])\n",
    "                    rewards.append(reward)\n",
    "                else:\n",
    "                    reward = c_l_data[t] - c_i_data[t] - overhead\n",
    "                    predictions.append(df[\"Last_layer\"][t])\n",
    "                    rewards.append(reward)\n",
    "\n",
    "            else:\n",
    "\n",
    "                action = next_action(Q, c_tilde, N, t)\n",
    "                # print(action)\n",
    "                action_chosen.append(action)\n",
    "                if c_i_data[t] >= action_set[action]:\n",
    "                    reward = 0\n",
    "                    predictions.append(df[\"Thi_layer_P\"][t])\n",
    "                    rewards.append(reward)\n",
    "                    count_1+=1\n",
    "                else:\n",
    "                    reward = c_l_data[t] - c_i_data[t] - overhead\n",
    "                    predictions.append(df[\"Last_layer\"][t])\n",
    "                    rewards.append(reward)\n",
    "                Q, N = update_parameters(Q, N, t, c_i_data, c_l_data, action, overhead)\n",
    "\n",
    "        return action_chosen, predictions, rewards, Q, N, count_1\n",
    "    \n",
    "    \n",
    "    Q = [0 for i in range(len(action_set))]\n",
    "    N = [0 for i in range(len(action_set))]\n",
    "    c_tilde = 2\n",
    "    Q, N = initialize(Q, N, action_set, c_i_data, c_l_data, overhead)\n",
    "    action, preds, rewards, Q, N, count_1 = one_UCB_cycle(Q, N, c_tilde, c_i_data, c_l_data, overhead , df)\n",
    "    \n",
    "    optimal_action = Q.index(max(Q))\n",
    "    print(\"Optimal_action index is \", optimal_action)\n",
    "    print(\"Optimal_action is \", action_set[optimal_action])\n",
    "\n",
    "    \n",
    "    \n",
    "    preds = []\n",
    "    count = 0\n",
    "    oracle_reward = []\n",
    "    for i in range(df.shape[0]):\n",
    "        \n",
    "        if c_i_data[i] > action_set[oracle_action]:\n",
    "            reward = 0\n",
    "            count += 1\n",
    "            preds.append(df[\"Thi_layer_P\"][i])\n",
    "            oracle_reward.append(reward)\n",
    "        else:\n",
    "            preds.append(df[\"Last_layer\"][i])\n",
    "            reward = c_l_data[i] - c_i_data[i] - overhead\n",
    "            oracle_reward.append(reward)\n",
    "                \n",
    "    oracle_reward = np.array(oracle_reward)\n",
    "    rewards = np.array(rewards)\n",
    "    regret = (oracle_reward-rewards)\n",
    "    cumulative_regret = abs(np.cumsum(regret))\n",
    "    \n",
    "    \n",
    "    return cumulative_regret, count_1, action_set[optimal_action]"
   ]
  },
  {
   "cell_type": "code",
   "execution_count": 82,
   "metadata": {},
   "outputs": [
    {
     "name": "stdout",
     "output_type": "stream",
     "text": [
      "Oracle action =====>  3\n",
      "Optimal_action index is  3\n",
      "Optimal_action is  0.65\n"
     ]
    },
    {
     "data": {
      "text/plain": [
       "(array([0.00000000e+00, 1.19481200e-01, 1.19481200e-01, ...,\n",
       "        5.01939620e+03, 5.01938272e+03, 5.01938272e+03]),\n",
       " 359009,\n",
       " 0.65)"
      ]
     },
     "execution_count": 82,
     "metadata": {},
     "output_type": "execute_result"
    }
   ],
   "source": [
    "one_cycle(df, overhead = 0.1)"
   ]
  },
  {
   "cell_type": "code",
   "execution_count": 83,
   "metadata": {},
   "outputs": [],
   "source": [
    "idx = []\n",
    "for i in range(df.shape[0]):\n",
    "    if i%50 == 0:\n",
    "        idx.append(i)"
   ]
  },
  {
   "cell_type": "code",
   "execution_count": 85,
   "metadata": {},
   "outputs": [
    {
     "name": "stdout",
     "output_type": "stream",
     "text": [
      "Oracle action =====>  3\n",
      "Optimal_action index is  3\n",
      "Optimal_action is  0.65\n",
      "Oracle action =====>  3\n",
      "Optimal_action index is  3\n",
      "Optimal_action is  0.65\n",
      "Oracle action =====>  3\n",
      "Optimal_action index is  3\n",
      "Optimal_action is  0.65\n",
      "Oracle action =====>  3\n",
      "Optimal_action index is  3\n",
      "Optimal_action is  0.65\n",
      "Oracle action =====>  3\n",
      "Optimal_action index is  3\n",
      "Optimal_action is  0.65\n"
     ]
    }
   ],
   "source": [
    "num_cycles = 5\n",
    "reg_lis = []\n",
    "\n",
    "\n",
    "\n",
    "for i in range(num_cycles):\n",
    "    df = df.sample(frac = 1)\n",
    "    cum_reg,_,_ = one_cycle(df, overhead = 0.1)\n",
    "\n",
    "\n",
    "    reg_lis.append([cum_reg[j] for j in idx])\n",
    "    \n",
    "reg_lis = np.array(reg_lis)"
   ]
  },
  {
   "cell_type": "code",
   "execution_count": 86,
   "metadata": {},
   "outputs": [
    {
     "data": {
      "text/plain": [
       "11200"
      ]
     },
     "execution_count": 86,
     "metadata": {},
     "output_type": "execute_result"
    }
   ],
   "source": [
    "len(reg_lis[0])"
   ]
  },
  {
   "cell_type": "code",
   "execution_count": 87,
   "metadata": {},
   "outputs": [],
   "source": [
    "lower = []\n",
    "upper = []\n",
    "\n",
    "for i in range(len(reg_lis[0])):\n",
    "\n",
    "    intrval = st.t.interval(alpha=0.95, df=len(reg_lis[:,i])-1,\n",
    "            loc=np.mean(reg_lis[:,i]),\n",
    "            scale=st.sem(reg_lis[:,i]))\n",
    "        \n",
    "    lower.append(intrval[0])\n",
    "    upper.append(intrval[1])"
   ]
  },
  {
   "cell_type": "code",
   "execution_count": 88,
   "metadata": {},
   "outputs": [
    {
     "data": {
      "text/plain": [
       "11200"
      ]
     },
     "execution_count": 88,
     "metadata": {},
     "output_type": "execute_result"
    }
   ],
   "source": [
    "len(lower)"
   ]
  },
  {
   "cell_type": "markdown",
   "metadata": {},
   "source": [
    "# Other-Exit"
   ]
  },
  {
   "cell_type": "code",
   "execution_count": 89,
   "metadata": {},
   "outputs": [],
   "source": [
    "def one_action_cycle(df, action):\n",
    "    c_i_data = []\n",
    "    for i in df[\"PProb_thi\"]:\n",
    "        c_i_data.append(i)\n",
    "        \n",
    "#     random.seed(9)    \n",
    "    c_l_data = []\n",
    "    for i in df[\"PProb_las\"]:\n",
    "        c_l_data.append(i)\n",
    "\n",
    "    number_of_actions = 10\n",
    "    action_set = [0.10*((i+10)/2) for i in range(number_of_actions)]\n",
    "        \n",
    "    # action_set_1 = [0.10*((i+10)/3) for i in range(20)]\n",
    "    # action_set = []\n",
    "    # for i in range(len(action_set_1)):\n",
    "    #     if i%2 == 0:\n",
    "    #         action_set.append(action_set_1[i])\n",
    "    # print(action_set)\n",
    "    overhead = 0.1\n",
    "    \n",
    " \n",
    "    def oracle_action(overhead):\n",
    "        oracle_reward = []\n",
    "        for i in action_set:\n",
    "            o_reward = 0 \n",
    "            for t in range(df.shape[0]):\n",
    "                if c_i_data[t] >= i:\n",
    "                    reward = 0\n",
    "    #                 predictions.append(df[\"Fou_layer_P\"][t])\n",
    "                else:\n",
    "                    reward = c_l_data[t] - c_i_data[t] - overhead\n",
    "                o_reward += reward\n",
    "    #         print(oracle_reward)\n",
    "            oracle_reward.append(o_reward/df.shape[0])\n",
    "\n",
    "        return oracle_reward.index(max(oracle_reward)), oracle_reward\n",
    "    oracle_action, o_reward = oracle_action(overhead)\n",
    "    \n",
    "    \n",
    "    print(\"Oracle action =====> \", oracle_action)\n",
    "    \n",
    "    \n",
    "    preds = []\n",
    "    count = 0\n",
    "    oracle_reward = []\n",
    "    for i in range(df.shape[0]):\n",
    "        if c_i_data[i] > action_set[oracle_action]:\n",
    "            reward = 0\n",
    "            count += 1\n",
    "            preds.append(df[\"Thi_layer_P\"][i])\n",
    "            oracle_reward.append(reward)\n",
    "        else:\n",
    "            preds.append(df[\"Last_layer\"][i])\n",
    "            reward = c_l_data[i] - c_i_data[i] - overhead\n",
    "            oracle_reward.append(reward)\n",
    "    \n",
    "    \n",
    "#     action = random.choice(action_set)\n",
    "    print(\"Action is \", action)\n",
    "    \n",
    "    \n",
    "    \n",
    "     \n",
    "    \n",
    "    \n",
    "    \n",
    "    \n",
    "#     preds = []\n",
    "#     count_1 = 0\n",
    "    rewards = []\n",
    "    for i in range(df.shape[0]):\n",
    "        \n",
    "        if c_i_data[i] >= action:\n",
    "            reward = 0\n",
    "#                 count_1 += 1\n",
    "            preds.append(df[\"Thi_layer_P\"][i])\n",
    "            rewards.append(reward)\n",
    "        else:\n",
    "            preds.append(df[\"Last_layer\"][i])\n",
    "            reward = c_l_data[i] - c_i_data[i] - overhead\n",
    "            rewards.append(reward)\n",
    "    \n",
    "                \n",
    "    oracle_reward = np.array(oracle_reward)\n",
    "    rewards = np.array(rewards)\n",
    "    regret = (oracle_reward-rewards)\n",
    "    cumulative_regret = abs(np.cumsum(regret))\n",
    "    # print(oracle_reward,'\\n', rewards)\n",
    "    \n",
    "    \n",
    "    return cumulative_regret"
   ]
  },
  {
   "cell_type": "code",
   "execution_count": 90,
   "metadata": {},
   "outputs": [
    {
     "name": "stdout",
     "output_type": "stream",
     "text": [
      "Oracle action =====>  3\n",
      "Action is  0.5\n",
      "Oracle action =====>  3\n",
      "Action is  0.5\n",
      "Oracle action =====>  3\n",
      "Action is  0.5\n",
      "Oracle action =====>  3\n",
      "Action is  0.5\n",
      "Oracle action =====>  3\n",
      "Action is  0.5\n"
     ]
    }
   ],
   "source": [
    "reg_lis_3 = []\n",
    "\n",
    "for i in range(num_cycles):\n",
    "    df = df.sample(frac = 1)\n",
    "    cum_reg_3 = one_action_cycle(df, 0.5)  \n",
    "    reg_lis_3.append([cum_reg_3[j] for j in idx])\n",
    "    \n",
    "reg_lis_3 = np.array(reg_lis_3)"
   ]
  },
  {
   "cell_type": "code",
   "execution_count": 91,
   "metadata": {},
   "outputs": [
    {
     "name": "stdout",
     "output_type": "stream",
     "text": [
      "[[0.00000000e+00 9.25095600e-01 2.11962086e+00 ... 1.40079633e+04\n",
      "  1.40092877e+04 1.40094208e+04]\n",
      " [0.00000000e+00 9.82492250e-01 1.69764560e+00 ... 1.40070121e+04\n",
      "  1.40081884e+04 1.40107701e+04]\n",
      " [0.00000000e+00 9.91435730e-01 1.91918224e+00 ... 1.40077233e+04\n",
      "  1.40088233e+04 1.40107415e+04]\n",
      " [2.46849800e-01 2.10868168e+00 2.89116738e+00 ... 1.40056639e+04\n",
      "  1.40082976e+04 1.40092355e+04]\n",
      " [8.81291700e-02 1.67579669e+00 3.52526165e+00 ... 1.40068822e+04\n",
      "  1.40083820e+04 1.40103904e+04]]\n"
     ]
    }
   ],
   "source": [
    "print(reg_lis_3)"
   ]
  },
  {
   "cell_type": "code",
   "execution_count": 92,
   "metadata": {},
   "outputs": [],
   "source": [
    "lower_3 = []\n",
    "upper_3 = []\n",
    "\n",
    "for i in range(len(reg_lis[0])):\n",
    "    intrval = st.t.interval(alpha=0.95, df=len(reg_lis_3[:,i])-1,\n",
    "              loc=np.mean(reg_lis_3[:,i]),\n",
    "              scale=st.sem(reg_lis_3[:,i]))\n",
    "\n",
    "        \n",
    "    lower_3.append(intrval[0])\n",
    "    upper_3.append(intrval[1])"
   ]
  },
  {
   "cell_type": "code",
   "execution_count": 93,
   "metadata": {},
   "outputs": [
    {
     "data": {
      "text/plain": [
       "11200"
      ]
     },
     "execution_count": 93,
     "metadata": {},
     "output_type": "execute_result"
    }
   ],
   "source": [
    "len(lower_3)"
   ]
  },
  {
   "attachments": {},
   "cell_type": "markdown",
   "metadata": {},
   "source": [
    "# $\\alpha = 0.8$"
   ]
  },
  {
   "cell_type": "code",
   "execution_count": 94,
   "metadata": {},
   "outputs": [
    {
     "name": "stdout",
     "output_type": "stream",
     "text": [
      "Oracle action =====>  3\n",
      "Action is  0.8\n",
      "Oracle action =====>  3\n",
      "Action is  0.8\n",
      "Oracle action =====>  3\n",
      "Action is  0.8\n",
      "Oracle action =====>  3\n",
      "Action is  0.8\n",
      "Oracle action =====>  3\n",
      "Action is  0.8\n"
     ]
    }
   ],
   "source": [
    "reg_lis_4 = []\n",
    "\n",
    "for i in range(num_cycles):\n",
    "    df = df.sample(frac = 1)\n",
    "    cum_reg_4 = one_action_cycle(df, 0.8)\n",
    "\n",
    "        \n",
    "    reg_lis_4.append([cum_reg_4[j] for j in idx])\n",
    "    \n",
    "reg_lis_4 = np.array(reg_lis_4)"
   ]
  },
  {
   "cell_type": "code",
   "execution_count": 95,
   "metadata": {},
   "outputs": [
    {
     "name": "stdout",
     "output_type": "stream",
     "text": [
      "[[2.94200100e-01 3.06718998e+00 4.30406203e+00 ... 2.04080333e+04\n",
      "  2.04101917e+04 2.04125854e+04]\n",
      " [1.91132400e-01 2.00936186e+00 3.17854202e+00 ... 2.04105238e+04\n",
      "  2.04125000e+04 2.04133665e+04]\n",
      " [1.67968330e-01 4.59234930e-01 2.52331863e+00 ... 2.04092878e+04\n",
      "  2.04114359e+04 2.04146931e+04]\n",
      " [0.00000000e+00 9.31902910e-01 2.88508771e+00 ... 2.04103444e+04\n",
      "  2.04110006e+04 2.04130347e+04]\n",
      " [0.00000000e+00 6.00371340e-01 2.16089105e+00 ... 2.04097069e+04\n",
      "  2.04112497e+04 2.04125327e+04]]\n"
     ]
    }
   ],
   "source": [
    "print(reg_lis_4)"
   ]
  },
  {
   "cell_type": "code",
   "execution_count": 96,
   "metadata": {},
   "outputs": [],
   "source": [
    "upper_4 = []\n",
    "lower_4 = []\n",
    "\n",
    "for i in range(len(reg_lis[0])):\n",
    "    intrval = st.t.interval(alpha=0.95, df=len(reg_lis_4[:,i])-1,\n",
    "              loc=np.mean(reg_lis_4[:,i]),\n",
    "              scale=st.sem(reg_lis_4[:,i]))\n",
    "        \n",
    "    lower_4.append(intrval[0])\n",
    "    upper_4.append(intrval[1])"
   ]
  },
  {
   "attachments": {},
   "cell_type": "markdown",
   "metadata": {},
   "source": [
    "# $\\alpha = 0.9$  "
   ]
  },
  {
   "cell_type": "code",
   "execution_count": 97,
   "metadata": {},
   "outputs": [
    {
     "name": "stdout",
     "output_type": "stream",
     "text": [
      "Oracle action =====>  3\n",
      "Action is  0.9\n",
      "Oracle action =====>  3\n",
      "Action is  0.9\n",
      "Oracle action =====>  3\n",
      "Action is  0.9\n",
      "Oracle action =====>  3\n",
      "Action is  0.9\n",
      "Oracle action =====>  3\n",
      "Action is  0.9\n"
     ]
    }
   ],
   "source": [
    "reg_lis_5 = []\n",
    "for i in range(num_cycles):\n",
    "    df = df.sample(frac = 1)\n",
    "    cum_reg_5 = one_action_cycle(df, 0.9)\n",
    "        \n",
    "    reg_lis_5.append([cum_reg_5[j] for j in idx])\n",
    "    \n",
    "reg_lis_5 = np.array(reg_lis_5)"
   ]
  },
  {
   "cell_type": "code",
   "execution_count": 98,
   "metadata": {},
   "outputs": [
    {
     "name": "stdout",
     "output_type": "stream",
     "text": [
      "[[3.49245600e-02 2.83035053e+00 6.32038041e+00 ... 3.49752681e+04\n",
      "  3.49795373e+04 3.49835090e+04]\n",
      " [1.71007730e-01 1.71576578e+00 5.51035340e+00 ... 3.49771673e+04\n",
      "  3.49800448e+04 3.49834344e+04]\n",
      " [0.00000000e+00 6.28305150e-01 5.01157167e+00 ... 3.49779396e+04\n",
      "  3.49811266e+04 3.49844653e+04]\n",
      " [1.66737570e-01 3.19844236e+00 6.55470455e+00 ... 3.49781911e+04\n",
      "  3.49814674e+04 3.49832392e+04]\n",
      " [5.53018000e-02 1.60666334e+00 5.31771385e+00 ... 3.49759533e+04\n",
      "  3.49796483e+04 3.49836582e+04]]\n"
     ]
    }
   ],
   "source": [
    "print(reg_lis_5)"
   ]
  },
  {
   "cell_type": "code",
   "execution_count": 99,
   "metadata": {},
   "outputs": [],
   "source": [
    "lower_5 = []\n",
    "upper_5 = []\n",
    "\n",
    "for i in range(len(reg_lis[0])):\n",
    "    intrval = st.t.interval(alpha=0.95, df=len(reg_lis_5[:,i])-1,\n",
    "              loc=np.mean(reg_lis_5[:,i]),\n",
    "              scale=st.sem(reg_lis_5[:,i]))\n",
    "        \n",
    "    lower_5.append(intrval[0])\n",
    "    upper_5.append(intrval[1])"
   ]
  },
  {
   "cell_type": "code",
   "execution_count": 100,
   "metadata": {},
   "outputs": [
    {
     "data": {
      "text/plain": [
       "11200"
      ]
     },
     "execution_count": 100,
     "metadata": {},
     "output_type": "execute_result"
    }
   ],
   "source": [
    "len(lower_5)"
   ]
  },
  {
   "attachments": {},
   "cell_type": "markdown",
   "metadata": {},
   "source": [
    "# $Final-Exit$ "
   ]
  },
  {
   "cell_type": "code",
   "execution_count": 101,
   "metadata": {},
   "outputs": [
    {
     "name": "stdout",
     "output_type": "stream",
     "text": [
      "Oracle action =====>  3\n",
      "Action is  1.0\n",
      "Oracle action =====>  3\n",
      "Action is  1.0\n",
      "Oracle action =====>  3\n",
      "Action is  1.0\n",
      "Oracle action =====>  3\n",
      "Action is  1.0\n",
      "Oracle action =====>  3\n",
      "Action is  1.0\n"
     ]
    }
   ],
   "source": [
    "reg_lis_fin = []\n",
    "for i in range(num_cycles):\n",
    "    df = df.sample(frac = 1)\n",
    "    cum_reg_fin = one_action_cycle(df, 1.0)\n",
    "        \n",
    "    reg_lis_fin.append([cum_reg_fin[j] for j in idx])\n",
    "    \n",
    "reg_lis_fin = np.array(reg_lis_fin)"
   ]
  },
  {
   "cell_type": "code",
   "execution_count": 102,
   "metadata": {},
   "outputs": [
    {
     "name": "stdout",
     "output_type": "stream",
     "text": [
      "[[2.61336860e-01 3.99862606e+00 8.45797483e+00 ... 3.55345675e+04\n",
      "  3.55375277e+04 3.55414198e+04]\n",
      " [4.47090000e-03 1.56565671e+00 4.12873177e+00 ... 3.55330202e+04\n",
      "  3.55378571e+04 3.55406192e+04]\n",
      " [0.00000000e+00 2.21462288e+00 5.77639585e+00 ... 3.55327354e+04\n",
      "  3.55357174e+04 3.55396994e+04]\n",
      " [3.26384700e-01 2.76577073e+00 4.52750667e+00 ... 3.55344124e+04\n",
      "  3.55377176e+04 3.55403665e+04]\n",
      " [3.38237400e-02 2.20079897e+00 3.79495119e+00 ... 3.55327611e+04\n",
      "  3.55357268e+04 3.55408246e+04]]\n"
     ]
    }
   ],
   "source": [
    "print(reg_lis_fin)"
   ]
  },
  {
   "cell_type": "code",
   "execution_count": 103,
   "metadata": {},
   "outputs": [],
   "source": [
    "lower_fin = []\n",
    "upper_fin = []\n",
    "\n",
    "for i in range(len(reg_lis[0])):\n",
    "    intrval = st.t.interval(alpha=0.95, df=len(reg_lis_fin[:,i])-1,\n",
    "              loc=np.mean(reg_lis_fin[:,i]),\n",
    "              scale=st.sem(reg_lis_fin[:,i]))\n",
    "        \n",
    "    lower_fin.append(intrval[0])\n",
    "    upper_fin.append(intrval[1])"
   ]
  },
  {
   "cell_type": "code",
   "execution_count": 104,
   "metadata": {},
   "outputs": [
    {
     "data": {
      "image/png": "[encoded data removed]",
      "text/plain": [
       "<Figure size 432x288 with 1 Axes>"
      ]
     },
     "metadata": {
      "needs_background": "light"
     },
     "output_type": "display_data"
    }
   ],
   "source": [
    "x = [i for i in range(len(idx))]\n",
    "plt.plot(reg_lis.mean(axis = 0) ,'g', label=\"UCBEE\",linestyle = 'solid')\n",
    "plt.fill_between(x, lower, upper, color='green', alpha=0.1)\n",
    "plt.plot(reg_lis_3.mean(axis = 0) ,'orange', label=\"alpha = 0.5(Early exit)\", linestyle = 'dashed')\n",
    "plt.fill_between(x, lower_3, upper_3, color='orange', alpha=0.1)\n",
    "plt.plot(reg_lis_4.mean(axis = 0) ,'red', label=\"alpha = 0.8\", linestyle = 'dashdot')\n",
    "plt.fill_between(x, lower_4, upper_4, color='red', alpha=0.1)\n",
    "plt.plot(reg_lis_5.mean(axis = 0) ,'blue', label=\"alpha = 0.9\",linestyle = 'dotted')\n",
    "plt.fill_between(x, lower_5, upper_5, color='blue', alpha=0.1)\n",
    "plt.plot(reg_lis_fin.mean(axis = 0) ,'brown', label=\"alpha = 1.0 (Final-Exit)\",linestyle = 'dashed')\n",
    "plt.fill_between(x, lower_fin, upper_fin, color='brown', alpha=0.1)\n",
    "plt.legend()\n",
    "plt.xlabel(\"Time horizon\")\n",
    "plt.ylabel(\"Cumulative regret\")\n",
    "plt.title(\"Yelp\")\n",
    "plt.savefig('/home/divya/UBERT/Result_plot_new/Regret_plot_yelp_corrected.pdf')\n",
    "plt.show()"
   ]
  },
  {
   "cell_type": "code",
   "execution_count": 105,
   "metadata": {},
   "outputs": [],
   "source": [
    "# num_cycles = 5\n",
    "def accuracy_lat_calcu(df, optimal_action, overhead = 0.1):\n",
    "    c_i_data_thi = []\n",
    "    for i in df[\"PProb_thi\"]:\n",
    "        c_i_data_thi.append(i)\n",
    "\n",
    "    c_l_data = []\n",
    "    for i in df[\"PProb_las\"]:\n",
    "        c_l_data.append(i)\n",
    "\n",
    "    preds = []\n",
    "    count_1 = 0\n",
    "    for i in range(df.shape[0]):\n",
    "        \n",
    "        if c_i_data_thi[i] >= optimal_action:\n",
    "            # reward = 0\n",
    "            count_1+=1\n",
    "#                 count_1 += 1\n",
    "            preds.append(df[\"Thi_layer_P\"][i])\n",
    "        else:\n",
    "            preds.append(df[\"Last_layer\"][i])\n",
    "            # reward = c_l_data[i] - c_i_data_thi[i] - overhead[0] - overhead[1]\n",
    "            # rewards.append(reward)\n",
    "    accuracy = 0\n",
    "    for i in range(df.shape[0]):\n",
    "        if preds[i] == df[\"True_labels\"][i]:\n",
    "            accuracy+=1\n",
    "        else:\n",
    "            pass\n",
    "    return accuracy/df.shape[0], count_1/df.shape[0]\n",
    "\n",
    "    "
   ]
  },
  {
   "cell_type": "code",
   "execution_count": 37,
   "metadata": {},
   "outputs": [
    {
     "name": "stdout",
     "output_type": "stream",
     "text": [
      "Oracle action =====>  2\n",
      "Optimal_action index is  2\n",
      "Optimal_action is  0.6000000000000001\n",
      "Optimal action is: 0.6000000000000001 \n",
      "=============================\n",
      " Fraction of Exits at intermediate layer 0.73416 \n",
      "=============================\n",
      " Total latency 0.26583999999999997 \n",
      " =====================\n",
      " Accuracy is 0.77128\n",
      "Oracle action =====>  2\n",
      "Optimal_action index is  2\n",
      "Optimal_action is  0.6000000000000001\n",
      "Optimal action is: 0.6000000000000001 \n",
      "=============================\n",
      " Fraction of Exits at intermediate layer 0.73416 \n",
      "=============================\n",
      " Total latency 0.26583999999999997 \n",
      " =====================\n",
      " Accuracy is 0.76952\n",
      "Oracle action =====>  2\n",
      "Optimal_action index is  2\n",
      "Optimal_action is  0.6000000000000001\n",
      "Optimal action is: 0.6000000000000001 \n",
      "=============================\n",
      " Fraction of Exits at intermediate layer 0.73416 \n",
      "=============================\n",
      " Total latency 0.26583999999999997 \n",
      " =====================\n",
      " Accuracy is 0.77016\n",
      "Oracle action =====>  2\n",
      "Optimal_action index is  2\n",
      "Optimal_action is  0.6000000000000001\n",
      "Optimal action is: 0.6000000000000001 \n",
      "=============================\n",
      " Fraction of Exits at intermediate layer 0.73416 \n",
      "=============================\n",
      " Total latency 0.26583999999999997 \n",
      " =====================\n",
      " Accuracy is 0.77044\n",
      "Oracle action =====>  2\n",
      "Optimal_action index is  2\n",
      "Optimal_action is  0.6000000000000001\n",
      "Optimal action is: 0.6000000000000001 \n",
      "=============================\n",
      " Fraction of Exits at intermediate layer 0.73416 \n",
      "=============================\n",
      " Total latency 0.26583999999999997 \n",
      " =====================\n",
      " Accuracy is 0.77128\n"
     ]
    }
   ],
   "source": [
    "num_cycles = 5\n",
    "accuracy_lis = []\n",
    "latency_lis = []\n",
    "for i in range(num_cycles):\n",
    "    df = df.sample(frac = 1)\n",
    "    _,_,optimal_action = one_cycle(df)\n",
    "    accuracy, count_1 = accuracy_lat_calcu(df, optimal_action, overhead = 0.1)\n",
    "    latency = count_1\n",
    "    print(\"Optimal action is:\", optimal_action,\n",
    "          \"\\n=============================\\n Fraction of Exits at intermediate layer\",count_1,\n",
    "          \"\\n=============================\\n Total latency\", 1-(count_1),\n",
    "          \"\\n =====================\\n Accuracy is\", accuracy\n",
    "              )\n",
    "    accuracy_lis.append(accuracy)\n",
    "    latency_lis.append(latency)\n",
    "accuracy_lis = np.array(accuracy_lis)\n",
    "latency_lis = np.array(latency_lis)"
   ]
  },
  {
   "cell_type": "code",
   "execution_count": 40,
   "metadata": {},
   "outputs": [
    {
     "name": "stdout",
     "output_type": "stream",
     "text": [
      "0.7705359999999999\n"
     ]
    }
   ],
   "source": [
    "print(np.mean(accuracy_lis))"
   ]
  },
  {
   "cell_type": "code",
   "execution_count": 41,
   "metadata": {},
   "outputs": [
    {
     "name": "stdout",
     "output_type": "stream",
     "text": [
      "0.73416\n"
     ]
    }
   ],
   "source": [
    "print(np.mean(latency_lis))"
   ]
  },
  {
   "cell_type": "code",
   "execution_count": 106,
   "metadata": {},
   "outputs": [
    {
     "name": "stdout",
     "output_type": "stream",
     "text": [
      "Oracle action =====>  5\n",
      "Optimal_action index is  5\n",
      "Optimal_action is  0.75\n",
      "Oracle action =====>  5\n",
      "Optimal_action index is  5\n",
      "Optimal_action is  0.75\n",
      "Oracle action =====>  5\n",
      "Optimal_action index is  5\n",
      "Optimal_action is  0.75\n",
      "Oracle action =====>  5\n",
      "Optimal_action index is  5\n",
      "Optimal_action is  0.75\n",
      "Oracle action =====>  5\n",
      "Optimal_action index is  5\n",
      "Optimal_action is  0.75\n",
      "Oracle action =====>  4\n",
      "Optimal_action index is  4\n",
      "Optimal_action is  0.7000000000000001\n",
      "Oracle action =====>  4\n",
      "Optimal_action index is  4\n",
      "Optimal_action is  0.7000000000000001\n",
      "Oracle action =====>  4\n"
     ]
    }
   ],
   "source": [
    "overheads = [0, 0.05, 0.1, 0.15, 0.2]\n",
    "acc_lis = []\n",
    "exit_lis = []\n",
    "for overhead in overheads:\n",
    "    accuracy_lis = []\n",
    "    e_lis = []\n",
    "    for i in range(num_cycles):\n",
    "        df = df.sample(frac = 1)\n",
    "        _,_,optimal_action = one_cycle(df, overhead)\n",
    "        accuracy, latency = accuracy_lat_calcu(df, optimal_action, overhead)\n",
    "        accuracy_lis.append(accuracy)\n",
    "        e_lis.append(latency)\n",
    "    acc_lis.append(accuracy_lis)\n",
    "    exit_lis.append(e_lis)\n",
    "    \n",
    "    "
   ]
  },
  {
   "cell_type": "code",
   "execution_count": null,
   "metadata": {},
   "outputs": [
    {
     "name": "stdout",
     "output_type": "stream",
     "text": [
      "[0.8259360000000001, 0.7864479999999999, 0.77004, 0.75864, 0.747]\n"
     ]
    }
   ],
   "source": [
    "final_acc = []\n",
    "for i in acc_lis:\n",
    "    i = np.array(i)\n",
    "    final_acc.append(np.mean(i))\n",
    "print(final_acc)\n",
    "    "
   ]
  },
  {
   "cell_type": "code",
   "execution_count": null,
   "metadata": {},
   "outputs": [
    {
     "name": "stdout",
     "output_type": "stream",
     "text": [
      "[0.097576, 0.5580320000000001, 0.73416, 0.86976, 1.0]\n"
     ]
    }
   ],
   "source": [
    "final_exit = []\n",
    "for i in exit_lis:\n",
    "    i = np.array(i)\n",
    "    final_exit.append(np.mean(i))\n",
    "print(final_exit)"
   ]
  },
  {
   "cell_type": "code",
   "execution_count": null,
   "metadata": {},
   "outputs": [],
   "source": [
    "acc_lis_act = []\n",
    "exit_lis_act = []\n",
    "for action in action_set:\n",
    "    accuracy_lis = []\n",
    "    e_lis = []\n",
    "    for i in range(num_cycles):\n",
    "        df = df.sample(frac = 1)\n",
    "        accuracy, latency = accuracy_lat_calcu(df, action, 0.1)\n",
    "        accuracy_lis.append(accuracy)\n",
    "        e_lis.append(latency)\n",
    "    acc_lis_act.append(accuracy_lis)\n",
    "    exit_lis_act.append(e_lis)"
   ]
  },
  {
   "cell_type": "code",
   "execution_count": null,
   "metadata": {},
   "outputs": [
    {
     "name": "stdout",
     "output_type": "stream",
     "text": [
      "[0.747, 0.7589359999999999, 0.7701039999999999, 0.783, 0.797208, 0.811816, 0.8244480000000001, 0.8313280000000001, 0.8347600000000002, 0.835312]\n"
     ]
    }
   ],
   "source": [
    "final_acc_act = []\n",
    "for i in acc_lis_act:\n",
    "    i = np.array(i)\n",
    "    final_acc_act.append(np.mean(i))\n",
    "print(final_acc_act)"
   ]
  },
  {
   "cell_type": "code",
   "execution_count": null,
   "metadata": {},
   "outputs": [
    {
     "name": "stdout",
     "output_type": "stream",
     "text": [
      "[1.0, 0.86976, 0.73416, 0.59012, 0.42968, 0.26976, 0.12828, 0.04124, 0.00736, 0.00016]\n"
     ]
    }
   ],
   "source": [
    "final_exit_act = []\n",
    "for i in exit_lis_act:\n",
    "    i = np.array(i)\n",
    "    final_exit_act.append(np.mean(i))\n",
    "print(final_exit_act)"
   ]
  },
  {
   "cell_type": "code",
   "execution_count": null,
   "metadata": {},
   "outputs": [
    {
     "data": {
      "text/plain": [
       "10"
      ]
     },
     "execution_count": 65,
     "metadata": {},
     "output_type": "execute_result"
    }
   ],
   "source": [
    "len(final_exit_act)"
   ]
  },
  {
   "cell_type": "code",
   "execution_count": 75,
   "metadata": {},
   "outputs": [
    {
     "data": {
      "image/png": "[encoded data removed]",
      "text/plain": [
       "<Figure size 432x288 with 1 Axes>"
      ]
     },
     "metadata": {
      "needs_background": "light"
     },
     "output_type": "display_data"
    }
   ],
   "source": [
    "barWidth = 0.35\n",
    "# fig = plt.subplots(figsize =(12, 8))\n",
    " \n",
    "# set height of bar\n",
    "exit = final_exit_act\n",
    " \n",
    "# Set position of bar on X axis\n",
    "br1 = np.arange(len(exit))\n",
    "br2 = [x + barWidth for x in br1]\n",
    "# br3 = [x + barWidth for x in br2]\n",
    " \n",
    "# Make the plot\n",
    "plt.bar(br1, exit, color ='orangered', width = barWidth,\n",
    "        edgecolor ='grey', label ='Fraction of exits')\n",
    "plt.bar(br2, final_acc_act, color ='steelblue', width = barWidth,\n",
    "        edgecolor ='grey', label ='Accuracy')\n",
    "# plt.bar(br3, accuracy_lis_1, color ='b', width = barWidth,\n",
    "#         edgecolor ='grey', label ='CSE')\n",
    " \n",
    "# Adding Xticks\n",
    "plt.xlabel('Thresholds', fontsize = 17)\n",
    "plt.ylabel('', fontweight ='bold', fontsize = 15)\n",
    "\n",
    "plt.xticks([r + barWidth/2 for r in range(len(exit))],\n",
    "        ['0.5', '0.55', '0.6', 'OPT', '0.7', '75', '0.8', '0.85', '0.9', '0.95'])\n",
    "\n",
    "\n",
    "\n",
    "plt.xticks(fontsize=13)\n",
    "plt.yticks(fontsize=13)\n",
    "\n",
    "plt.title('Yelp', fontsize = 15)\n",
    " \n",
    "plt.legend(['Fraction of exits', 'Accuracy'],\n",
    "           prop = {'size' : 8},\n",
    "           loc = 'upper right', shadow = True,\n",
    "           facecolor = 'white')\n",
    "plt.savefig('/home/divya/UBERT/Result_plot_new/UCBEE_Accuracy_vs_Thresholds_Yelp.pdf')\n",
    "plt.show()"
   ]
  },
  {
   "cell_type": "code",
   "execution_count": null,
   "metadata": {},
   "outputs": [],
   "source": []
  }
 ],
 "metadata": {
  "colab": {
   "provenance": []
  },
  "kernelspec": {
   "display_name": "Python 3",
   "language": "python",
   "name": "python3"
  },
  "language_info": {
   "codemirror_mode": {
    "name": "ipython",
    "version": 3
   },
   "file_extension": ".py",
   "mimetype": "text/x-python",
   "name": "python",
   "nbconvert_exporter": "python",
   "pygments_lexer": "ipython3",
   "version": "3.8.10"
  },
  "vscode": {
   "interpreter": {
    "hash": "916dbcbb3f70747c44a77c7bcd40155683ae19c65e1c03b4aa3499c5328201f1"
   }
  }
 },
 "nbformat": 4,
 "nbformat_minor": 1
}
